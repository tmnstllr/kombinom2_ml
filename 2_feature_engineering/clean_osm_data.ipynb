{
 "cells": [
  {
   "cell_type": "code",
   "execution_count": null,
   "metadata": {
    "collapsed": true
   },
   "outputs": [],
   "source": [
    "import pandas as pd\n",
    "import numpy as np\n",
    "import geopandas as gpd\n",
    "from shapely.geometry import Point\n",
    "from fiona.crs import from_epsg"
   ]
  },
  {
   "cell_type": "code",
   "execution_count": null,
   "outputs": [],
   "source": [
    "csv = \"osm_data.csv\"\n",
    "df_csv = pd.read_csv(csv)\n",
    "df_csv"
   ],
   "metadata": {
    "collapsed": false
   }
  },
  {
   "cell_type": "code",
   "execution_count": null,
   "outputs": [],
   "source": [
    "shapefile_path = 'hildesheim_merged.shp'\n",
    "gdf_shape = gpd.read_file(shapefile_path)\n",
    "gdf_shape"
   ],
   "metadata": {
    "collapsed": false
   }
  },
  {
   "cell_type": "markdown",
   "source": [
    "# Filter osm data to be inside the study area"
   ],
   "metadata": {
    "collapsed": false
   }
  },
  {
   "cell_type": "code",
   "execution_count": null,
   "outputs": [],
   "source": [
    "# Create Point geometries from coordinates\n",
    "df_csv['location'] = df_csv.apply(lambda row: Point(row['lon'], row['lat']), axis=1)\n",
    "df_csv"
   ],
   "metadata": {
    "collapsed": false
   }
  },
  {
   "cell_type": "code",
   "execution_count": null,
   "outputs": [],
   "source": [
    "# Create GeoDataFrame from location\n",
    "gdf = gpd.GeoDataFrame(df_csv, geometry='location', crs=from_epsg(4326))\n",
    "gdf"
   ],
   "metadata": {
    "collapsed": false
   }
  },
  {
   "cell_type": "code",
   "execution_count": null,
   "outputs": [],
   "source": [
    "# Reproject the shapefile to match the CRS of the GeoDataFrames\n",
    "gdf_shape = gdf_shape.to_crs(gdf.crs)"
   ],
   "metadata": {
    "collapsed": false
   }
  },
  {
   "cell_type": "code",
   "execution_count": null,
   "outputs": [],
   "source": [
    "# Perform spatial join to only filter rows where the point locations are inside the shapefile\n",
    "gdf_inside = gpd.sjoin(gdf, gdf_shape, op='intersects', how='inner')\n",
    "gdf_inside"
   ],
   "metadata": {
    "collapsed": false
   }
  },
  {
   "cell_type": "code",
   "execution_count": null,
   "outputs": [],
   "source": [
    "gdf_inside.drop(columns=['index_right', 'id_right'], inplace=True)\n",
    "gdf_inside"
   ],
   "metadata": {
    "collapsed": false
   }
  },
  {
   "cell_type": "code",
   "execution_count": null,
   "outputs": [],
   "source": [
    "# Input OSM data\n",
    "csv = \"osm_data.csv\"\n",
    "df_csv = pd.read_csv(csv)\n",
    "\n",
    "# Input study area shapefile\n",
    "shapefile_path = 'hildesheim_merged.shp'\n",
    "gdf_shape = gpd.read_file(shapefile_path)\n",
    "\n",
    "# Create Point geometries from coordinates of OSM data\n",
    "df_csv['location'] = df_csv.apply(lambda row: Point(row['lon'], row['lat']),\n",
    "                                  axis=1)\n",
    "\n",
    "# Convert Dataframe to GeoDataFrame via the Point location\n",
    "gdf = gpd.GeoDataFrame(df_csv, geometry='location', crs=from_epsg(4326))\n",
    "\n",
    "# Reproject the shapefile to match the CRS of the GeoDataFrame\n",
    "gdf_shape = gdf_shape.to_crs(gdf.crs)\n",
    "\n",
    "# Perform spatial join to filter only rows that are inside the shapefile\n",
    "gdf_inside = gpd.sjoin(gdf, gdf_shape, op='intersects', how='inner')"
   ],
   "metadata": {
    "collapsed": false
   }
  },
  {
   "cell_type": "markdown",
   "source": [
    "# assign cluster"
   ],
   "metadata": {
    "collapsed": false
   }
  },
  {
   "cell_type": "code",
   "execution_count": null,
   "outputs": [],
   "source": [
    "# Input cluster shapefile as GeoDataFrame\n",
    "shapefile_path_cluster = 'desd-4-landkreis-hildesheim-1663168323029-shapes.shp'\n",
    "gdf_shape_cluster = gpd.read_file(shapefile_path_cluster)\n",
    "\n",
    "# Set the CRS for the GeoDataFrame\n",
    "gdf_shape_cluster.crs = 'EPSG:4326'\n",
    "\n",
    "# Reproject the shapefile to match the CRS of other GeoDataFrames\n",
    "gdf_shape_cluster = gdf_shape_cluster.to_crs(gdf_inside.crs)\n",
    "\n",
    "# Calculate centroids and create a new column 'centroid' in the GeoDataFrame\n",
    "gdf_shape_cluster['centroid'] = gdf_shape_cluster.centroid\n",
    "\n",
    "gdf_shape_cluster"
   ],
   "metadata": {
    "collapsed": false
   }
  },
  {
   "cell_type": "code",
   "execution_count": null,
   "outputs": [],
   "source": [
    "# Input cluster CSV\n",
    "csv_cluster = 'desd-4-landkreis-hildesheim-1663168323029-shapes.csv'\n",
    "gdf_csv_cluster = gpd.read_file(csv_cluster)\n",
    "gdf_csv_cluster"
   ],
   "metadata": {
    "collapsed": false
   }
  },
  {
   "cell_type": "code",
   "execution_count": null,
   "outputs": [],
   "source": [
    "# Merge the GeoDataFrame and DataFrame on their indices\n",
    "gdf_cluster = gdf_shape_cluster.merge(gdf_csv_cluster, left_index=True, right_index=True, how='inner')\n",
    "gdf_cluster"
   ],
   "metadata": {
    "collapsed": false
   }
  },
  {
   "cell_type": "code",
   "execution_count": null,
   "outputs": [],
   "source": [
    "# Input cluster shapefile as GeoDataFrame\n",
    "shapefile_path_cluster = 'desd-4-landkreis-hildesheim-1663168323029-' \\\n",
    "                         'shapes.shp'\n",
    "gdf_shape_cluster = gpd.read_file(shapefile_path_cluster)\n",
    "\n",
    "# Set the CRS for the GeoDataFrame\n",
    "gdf_shape_cluster.crs = 'EPSG:4326'\n",
    "\n",
    "# Reproject the shapefile to match the CRS of other GeoDataFrames\n",
    "gdf_shape_cluster = gdf_shape_cluster.to_crs(gdf_inside.crs)\n",
    "\n",
    "# Calculate centroids and create new column 'centroid' in GeoDataFrame\n",
    "gdf_shape_cluster['centroid'] = gdf_shape_cluster.centroid\n",
    "\n",
    "# Input cluster CSV\n",
    "csv_cluster = 'desd-4-landkreis-hildesheim-1663168323029-shapes.csv'\n",
    "gdf_csv_cluster = gpd.read_file(csv_cluster)\n",
    "\n",
    "# Merge the GeoDataFrame and DataFrame on their indices\n",
    "gdf_cluster = gdf_shape_cluster.merge(gdf_csv_cluster, left_index=True,\n",
    "                                      right_index=True, how='inner')\n",
    "\n",
    "# Perform spatial join with OSM data\n",
    "gdf_joined = gpd.sjoin(gdf_inside, gdf_cluster, op='within')"
   ],
   "metadata": {
    "collapsed": false
   }
  },
  {
   "cell_type": "code",
   "execution_count": null,
   "outputs": [],
   "source": [
    "gdf_cluster.drop(columns=['geometry_y'], inplace=True)\n",
    "gdf_cluster.rename(columns={'geometry_x': 'geometry'}, inplace=True)\n",
    "\n",
    "# Convert the merged DataFrame to a GeoDataFrame\n",
    "gdf_cluster = gpd.GeoDataFrame(gdf_cluster, geometry='geometry')\n",
    "\n",
    "gdf_cluster"
   ],
   "metadata": {
    "collapsed": false
   }
  },
  {
   "cell_type": "code",
   "execution_count": null,
   "outputs": [],
   "source": [
    "# Perform spatial join\n",
    "gdf_joined = gpd.sjoin(gdf_inside, gdf_cluster, op='within')\n",
    "gdf_joined"
   ],
   "metadata": {
    "collapsed": false
   }
  },
  {
   "cell_type": "markdown",
   "source": [
    "# Clean Data"
   ],
   "metadata": {
    "collapsed": false
   }
  },
  {
   "cell_type": "code",
   "execution_count": null,
   "outputs": [],
   "source": [
    "gdf_joined.columns"
   ],
   "metadata": {
    "collapsed": false
   }
  },
  {
   "cell_type": "markdown",
   "source": [
    "## filter duplicates"
   ],
   "metadata": {
    "collapsed": false
   }
  },
  {
   "cell_type": "code",
   "execution_count": null,
   "outputs": [],
   "source": [
    "# Check for duplicates based on specific columns\n",
    "duplicates_mask = gdf_joined.duplicated(subset=['id_left'], keep='first')\n",
    "\n",
    "# In the 'subset' parameter, list the columns that you want to check for duplicates\n",
    "# 'keep' parameter determines which duplicates to mark, 'first' marks all except the first occurrence\n",
    "\n",
    "# Invert the mask to get non-duplicate rows\n",
    "non_duplicates = ~duplicates_mask\n",
    "\n",
    "# Apply the mask to the GeoDataFrame to filter out duplicates\n",
    "gdf_filtered = gdf_joined[non_duplicates]\n",
    "\n",
    "gdf_filtered"
   ],
   "metadata": {
    "collapsed": false
   }
  },
  {
   "cell_type": "markdown",
   "source": [
    "## go through each subcategory"
   ],
   "metadata": {
    "collapsed": false
   }
  },
  {
   "cell_type": "markdown",
   "source": [
    "### shops"
   ],
   "metadata": {
    "collapsed": false
   }
  },
  {
   "cell_type": "markdown",
   "source": [
    "supermarket"
   ],
   "metadata": {
    "collapsed": false
   }
  },
  {
   "cell_type": "code",
   "execution_count": null,
   "outputs": [],
   "source": [
    "gdf_filtered_supermarkets = gdf_filtered[gdf_filtered['subcategory'] == 'supermarket']\n",
    "gdf_filtered_supermarkets"
   ],
   "metadata": {
    "collapsed": false
   }
  },
  {
   "cell_type": "code",
   "execution_count": null,
   "outputs": [],
   "source": [
    "gdf_filtered_supermarkets.groupby('brand').size()"
   ],
   "metadata": {
    "collapsed": false
   }
  },
  {
   "cell_type": "markdown",
   "source": [
    "rest of shops"
   ],
   "metadata": {
    "collapsed": false
   }
  },
  {
   "cell_type": "code",
   "execution_count": null,
   "outputs": [],
   "source": [
    "gdf_filtered_shop = gdf_filtered[(gdf_filtered['category'] == 'shop') & (gdf_filtered['subcategory'] != 'supermarket')]\n",
    "gdf_filtered_shop"
   ],
   "metadata": {
    "collapsed": false
   }
  },
  {
   "cell_type": "markdown",
   "source": [
    "drop rows of insignificant data entries and/or subcategories"
   ],
   "metadata": {
    "collapsed": false
   }
  },
  {
   "cell_type": "code",
   "execution_count": null,
   "outputs": [],
   "source": [
    "gdf_filtered = gdf_filtered.drop([181, 188])"
   ],
   "metadata": {
    "collapsed": false
   }
  },
  {
   "cell_type": "markdown",
   "source": [
    "map mall to supermarket, so there are less subcategories"
   ],
   "metadata": {
    "collapsed": false
   }
  },
  {
   "cell_type": "code",
   "execution_count": null,
   "outputs": [],
   "source": [
    "gdf_filtered.at[192, 'subcategory'] = 'supermarket'"
   ],
   "metadata": {
    "collapsed": false
   }
  },
  {
   "cell_type": "markdown",
   "source": [
    "## amenities"
   ],
   "metadata": {
    "collapsed": false
   }
  },
  {
   "cell_type": "code",
   "execution_count": null,
   "outputs": [],
   "source": [
    "gdf_filtered_amenities = gdf_filtered[gdf_filtered['category'] == 'amenity']\n",
    "gdf_filtered_amenities"
   ],
   "metadata": {
    "collapsed": false
   }
  },
  {
   "cell_type": "code",
   "execution_count": null,
   "outputs": [],
   "source": [
    "gdf_filtered_amenities.groupby('subcategory').size()"
   ],
   "metadata": {
    "collapsed": false
   }
  },
  {
   "cell_type": "markdown",
   "source": [
    "kindergarten"
   ],
   "metadata": {
    "collapsed": false
   }
  },
  {
   "cell_type": "code",
   "execution_count": null,
   "outputs": [],
   "source": [
    "gdf_filtered_amenities_kg = gdf_filtered_amenities[gdf_filtered_amenities['subcategory'] == 'kindergarten']\n",
    "gdf_filtered_amenities_kg"
   ],
   "metadata": {
    "collapsed": false
   }
  },
  {
   "cell_type": "markdown",
   "source": [
    "drop some kindergarten"
   ],
   "metadata": {
    "collapsed": false
   }
  },
  {
   "cell_type": "code",
   "execution_count": null,
   "outputs": [],
   "source": [
    "gdf_filtered = gdf_filtered.drop([432, 360])\n",
    "gdf_filtered = gdf_filtered.drop(gdf_filtered[(gdf_filtered['subcategory'] == 'kindergarten') & (gdf_filtered['name_left'].isnull())].index)"
   ],
   "metadata": {
    "collapsed": false
   }
  },
  {
   "cell_type": "markdown",
   "source": [
    "schools"
   ],
   "metadata": {
    "collapsed": false
   }
  },
  {
   "cell_type": "code",
   "execution_count": null,
   "outputs": [],
   "source": [
    "gdf_filtered_amenities_sh = gdf_filtered_amenities[gdf_filtered_amenities['subcategory'] == 'school']\n",
    "gdf_filtered_amenities_sh"
   ],
   "metadata": {
    "collapsed": false
   }
  },
  {
   "cell_type": "markdown",
   "source": [
    "drop some schools"
   ],
   "metadata": {
    "collapsed": false
   }
  },
  {
   "cell_type": "code",
   "execution_count": null,
   "outputs": [],
   "source": [
    "gdf_filtered = gdf_filtered.drop([272, 225, 222, 221, 223, 224, 227, 237, 259, 206, 280, 301, 293])\n",
    "gdf_filtered = gdf_filtered.drop(gdf_filtered[(gdf_filtered['subcategory'] == 'school') & (gdf_filtered['name_left'].isnull())].index)"
   ],
   "metadata": {
    "collapsed": false
   }
  },
  {
   "cell_type": "markdown",
   "source": [
    "rest of amenities"
   ],
   "metadata": {
    "collapsed": false
   }
  },
  {
   "cell_type": "code",
   "execution_count": null,
   "outputs": [],
   "source": [
    "gdf_filtered_amenities_rest = gdf_filtered_amenities[(gdf_filtered_amenities['subcategory'] != 'kindergarten') & (gdf_filtered_amenities['subcategory'] != 'school')]\n",
    "gdf_filtered_amenities_rest"
   ],
   "metadata": {
    "collapsed": false
   }
  },
  {
   "cell_type": "code",
   "execution_count": null,
   "outputs": [],
   "source": [
    "gdf_filtered = gdf_filtered.drop([514, 518, 525, 506])\n",
    "gdf_filtered.loc[gdf_filtered['subcategory'] == 'college', 'subcategory'] = 'university'"
   ],
   "metadata": {
    "collapsed": false
   }
  },
  {
   "cell_type": "markdown",
   "source": [
    "### leisure"
   ],
   "metadata": {
    "collapsed": false
   }
  },
  {
   "cell_type": "code",
   "execution_count": null,
   "outputs": [],
   "source": [
    "gdf_filtered_leisure = gdf_filtered[gdf_filtered['category'] == 'leisure']\n",
    "gdf_filtered_leisure"
   ],
   "metadata": {
    "collapsed": false
   }
  },
  {
   "cell_type": "code",
   "execution_count": null,
   "outputs": [],
   "source": [
    "gdf_filtered_leisure.groupby('subcategory').size()"
   ],
   "metadata": {
    "collapsed": false
   }
  },
  {
   "cell_type": "markdown",
   "source": [
    "sports centre"
   ],
   "metadata": {
    "collapsed": false
   }
  },
  {
   "cell_type": "code",
   "execution_count": null,
   "outputs": [],
   "source": [
    "gdf_filtered_leisure_sc = gdf_filtered_leisure[gdf_filtered_leisure['subcategory'] == 'sports_centre']\n",
    "gdf_filtered_leisure_sc"
   ],
   "metadata": {
    "collapsed": false
   }
  },
  {
   "cell_type": "code",
   "execution_count": null,
   "outputs": [],
   "source": [
    "keywords = ['reit', 'pferd', 'integrau', 'halle']\n",
    "pattern = '|'.join(rf'{keyword}' for keyword in keywords)\n",
    "indices_to_remove = gdf_filtered[(gdf_filtered['subcategory'] == 'sports_centre') & (gdf_filtered['name_left'].str.contains(pattern, case=False))].index\n",
    "gdf_filtered = gdf_filtered.drop(indices_to_remove)"
   ],
   "metadata": {
    "collapsed": false
   }
  },
  {
   "cell_type": "code",
   "execution_count": null,
   "outputs": [],
   "source": [
    "gdf_filtered = gdf_filtered.drop(gdf_filtered[(gdf_filtered['subcategory'] == 'sports_centre') & (gdf_filtered['name_left'].isnull())].index)"
   ],
   "metadata": {
    "collapsed": false
   }
  },
  {
   "cell_type": "markdown",
   "source": [
    "swimming pool"
   ],
   "metadata": {
    "collapsed": false
   }
  },
  {
   "cell_type": "code",
   "execution_count": null,
   "outputs": [],
   "source": [
    "gdf_filtered_leisure_sp = gdf_filtered_leisure[gdf_filtered_leisure['subcategory'] == 'swimming_pool']\n",
    "gdf_filtered_leisure_sp"
   ],
   "metadata": {
    "collapsed": false
   }
  },
  {
   "cell_type": "code",
   "execution_count": null,
   "outputs": [],
   "source": [
    "gdf_filtered = gdf_filtered[gdf_filtered['subcategory'] != 'swimming_pool']"
   ],
   "metadata": {
    "collapsed": false
   }
  },
  {
   "cell_type": "code",
   "execution_count": null,
   "outputs": [],
   "source": [
    "gdf_filtered_leisure_rest = gdf_filtered_leisure[(gdf_filtered_leisure['subcategory'] != 'swimming_pool') & (gdf_filtered_leisure['subcategory'] != 'sports_centre')]\n",
    "gdf_filtered_leisure_rest"
   ],
   "metadata": {
    "collapsed": false
   }
  },
  {
   "cell_type": "code",
   "execution_count": null,
   "outputs": [],
   "source": [
    "gdf_filtered = gdf_filtered.drop([609, 604, 622, 606, 622])\n",
    "gdf_filtered.loc[gdf_filtered['subcategory'] == 'fitness_centre', 'subcategory'] = 'sports_centre'"
   ],
   "metadata": {
    "collapsed": false
   }
  },
  {
   "cell_type": "markdown",
   "source": [
    "### public transport"
   ],
   "metadata": {
    "collapsed": false
   }
  },
  {
   "cell_type": "code",
   "execution_count": null,
   "outputs": [],
   "source": [
    "gdf_filtered_pt = gdf_filtered[gdf_filtered['category'] == 'public_transport']\n",
    "gdf_filtered_pt"
   ],
   "metadata": {
    "collapsed": false
   }
  },
  {
   "cell_type": "code",
   "execution_count": null,
   "outputs": [],
   "source": [
    "gdf_filtered_pt.groupby('subcategory').size()"
   ],
   "metadata": {
    "collapsed": false
   }
  },
  {
   "cell_type": "markdown",
   "source": [
    "stop_position"
   ],
   "metadata": {
    "collapsed": false
   }
  },
  {
   "cell_type": "code",
   "execution_count": null,
   "outputs": [],
   "source": [
    "gdf_filtered_pt_sp = gdf_filtered_pt[gdf_filtered_pt['subcategory'] == 'stop_position']\n",
    "gdf_filtered_pt_sp"
   ],
   "metadata": {
    "collapsed": false
   }
  },
  {
   "cell_type": "code",
   "execution_count": null,
   "outputs": [],
   "source": [
    "indices_to_remove= gdf_filtered[((gdf_filtered['subcategory'] == 'stop_position') & gdf_filtered.duplicated(subset='name_left', keep='first'))].index\n",
    "gdf_filtered = gdf_filtered.drop(indices_to_remove)"
   ],
   "metadata": {
    "collapsed": false
   }
  },
  {
   "cell_type": "code",
   "execution_count": null,
   "outputs": [],
   "source": [
    "gdf_filtered = gdf_filtered.drop(gdf_filtered[(gdf_filtered['subcategory'] == 'stop_position') & (gdf_filtered['name_left'].isnull())].index)"
   ],
   "metadata": {
    "collapsed": false
   }
  },
  {
   "cell_type": "markdown",
   "source": [
    "station"
   ],
   "metadata": {
    "collapsed": false
   }
  },
  {
   "cell_type": "code",
   "execution_count": null,
   "outputs": [],
   "source": [
    "gdf_filtered_pt_st = gdf_filtered_pt[gdf_filtered_pt['subcategory'] == 'station']\n",
    "gdf_filtered_pt_st"
   ],
   "metadata": {
    "collapsed": false
   }
  },
  {
   "cell_type": "code",
   "execution_count": null,
   "outputs": [],
   "source": [
    "gdf_filtered = gdf_filtered.drop(gdf_filtered[(gdf_filtered['subcategory'] == 'station') & (gdf_filtered['name_left'].isnull())].index)\n",
    "gdf_filtered = gdf_filtered.drop([1327])"
   ],
   "metadata": {
    "collapsed": false
   }
  },
  {
   "cell_type": "markdown",
   "source": [
    "# result"
   ],
   "metadata": {
    "collapsed": false
   }
  },
  {
   "cell_type": "code",
   "execution_count": null,
   "outputs": [],
   "source": [
    "gdf_filtered"
   ],
   "metadata": {
    "collapsed": false
   }
  },
  {
   "cell_type": "code",
   "execution_count": null,
   "outputs": [],
   "source": [
    "size_subcat = gdf_filtered.groupby('subcategory').size()\n",
    "size_subcat"
   ],
   "metadata": {
    "collapsed": false
   }
  },
  {
   "cell_type": "markdown",
   "source": [
    "map mall to supermarket"
   ],
   "metadata": {
    "collapsed": false
   }
  },
  {
   "cell_type": "code",
   "execution_count": null,
   "outputs": [],
   "source": [
    "gdf_filtered.loc[gdf_filtered['subcategory'] == 'mall', 'subcategory'] = 'supermarket'"
   ],
   "metadata": {
    "collapsed": false
   }
  },
  {
   "cell_type": "code",
   "execution_count": null,
   "outputs": [],
   "source": [
    "size_subcat = gdf_filtered.groupby('subcategory').size()\n",
    "size_subcat"
   ],
   "metadata": {
    "collapsed": false
   }
  },
  {
   "cell_type": "code",
   "execution_count": null,
   "outputs": [],
   "source": [
    "gdf_filtered[gdf_filtered['subcategory'] == 'wholesale']"
   ],
   "metadata": {
    "collapsed": false
   }
  },
  {
   "cell_type": "code",
   "execution_count": null,
   "outputs": [],
   "source": [
    "gdf_filtered = gdf_filtered.drop([196])"
   ],
   "metadata": {
    "collapsed": false
   }
  },
  {
   "cell_type": "code",
   "execution_count": null,
   "outputs": [],
   "source": [
    "size_subcat = gdf_filtered.groupby('subcategory').size()\n",
    "size_subcat"
   ],
   "metadata": {
    "collapsed": false
   }
  },
  {
   "cell_type": "markdown",
   "source": [
    "map university to school"
   ],
   "metadata": {
    "collapsed": false
   }
  },
  {
   "cell_type": "code",
   "execution_count": null,
   "outputs": [],
   "source": [
    "gdf_filtered.loc[gdf_filtered['subcategory'] == 'university', 'subcategory'] = 'school'"
   ],
   "metadata": {
    "collapsed": false
   }
  },
  {
   "cell_type": "markdown",
   "source": [
    "map department_store and diy to supermarket"
   ],
   "metadata": {
    "collapsed": false
   }
  },
  {
   "cell_type": "code",
   "execution_count": null,
   "outputs": [],
   "source": [
    "gdf_filtered.loc[gdf_filtered['subcategory'] == 'department_store', 'subcategory'] = 'supermarket'\n",
    "gdf_filtered.loc[gdf_filtered['subcategory'] == 'doityourself', 'subcategory'] = 'supermarket'"
   ],
   "metadata": {
    "collapsed": false
   }
  },
  {
   "cell_type": "markdown",
   "source": [
    "map station to stop_position"
   ],
   "metadata": {
    "collapsed": false
   }
  },
  {
   "cell_type": "code",
   "execution_count": null,
   "outputs": [],
   "source": [
    "gdf_filtered.loc[gdf_filtered['subcategory'] == 'station', 'subcategory'] = 'stop_position'"
   ],
   "metadata": {
    "collapsed": false
   }
  },
  {
   "cell_type": "code",
   "execution_count": null,
   "outputs": [],
   "source": [
    "size_subcat = gdf_filtered.groupby('subcategory').size()\n",
    "size_subcat"
   ],
   "metadata": {
    "collapsed": false
   }
  },
  {
   "cell_type": "markdown",
   "source": [
    "# aggregate subcats to cluster"
   ],
   "metadata": {
    "collapsed": false
   }
  },
  {
   "cell_type": "code",
   "execution_count": null,
   "outputs": [],
   "source": [
    "gdf_filtered.name_right.unique()"
   ],
   "metadata": {
    "collapsed": false
   }
  },
  {
   "cell_type": "code",
   "execution_count": null,
   "outputs": [],
   "source": [
    "# Group by 'name_right' and 'subcategory', and calculate the size of each group\n",
    "grouped = gdf_filtered.groupby(['name_right', 'subcategory']).size().reset_index(name='count')\n",
    "\n",
    "# Pivot the table to create the desired structure\n",
    "pivot_table = grouped.pivot_table(index='name_right', columns='subcategory', values='count', fill_value=0)\n",
    "\n",
    "# Reset the index of the pivot table\n",
    "pivot_table.reset_index(inplace=True)\n",
    "\n",
    "# Display the pivot table\n",
    "pivot_table"
   ],
   "metadata": {
    "collapsed": false
   }
  },
  {
   "cell_type": "code",
   "execution_count": null,
   "outputs": [],
   "source": [
    "pivot_table.kindergarten.sum()"
   ],
   "metadata": {
    "collapsed": false
   }
  },
  {
   "cell_type": "code",
   "execution_count": null,
   "outputs": [],
   "source": [
    "pivot_table.supermarket.sum()"
   ],
   "metadata": {
    "collapsed": false
   }
  },
  {
   "cell_type": "code",
   "execution_count": null,
   "outputs": [],
   "source": [
    "# Reset the index of the pivot table\n",
    "pivot_table.reset_index(inplace=True)\n",
    "\n",
    "# Convert the pivot table back into a DataFrame\n",
    "df_result = pivot_table.copy()\n",
    "df_result"
   ],
   "metadata": {
    "collapsed": false
   }
  },
  {
   "cell_type": "code",
   "execution_count": null,
   "outputs": [],
   "source": [
    "df_result.drop(['level_0', 'index'], inplace=True)\n",
    "df_result"
   ],
   "metadata": {
    "collapsed": false
   }
  },
  {
   "cell_type": "code",
   "execution_count": null,
   "outputs": [],
   "source": [
    "df_result.to_csv('osm_data_cleaned.csv', index=False)"
   ],
   "metadata": {
    "collapsed": false
   }
  },
  {
   "cell_type": "code",
   "execution_count": null,
   "outputs": [],
   "source": [
    "df = pd.read_csv('osm_data_cleaned.csv')\n",
    "df"
   ],
   "metadata": {
    "collapsed": false
   }
  },
  {
   "cell_type": "code",
   "execution_count": null,
   "outputs": [],
   "source": [
    "df = df.drop(['level_0', 'index'], axis=1)\n",
    "df"
   ],
   "metadata": {
    "collapsed": false
   }
  },
  {
   "cell_type": "code",
   "execution_count": null,
   "outputs": [],
   "source": [
    "df.rename(columns={'name_right': 'cluster', 'kindergarten': 'kindergartens_count', 'school': 'schools_count', 'sports_centre': 'sportsCentres_count', 'stop_position': 'publicTransportStops_count', 'supermarket': 'supermarkets_count'}, inplace=True)\n",
    "df"
   ],
   "metadata": {
    "collapsed": false
   }
  },
  {
   "cell_type": "code",
   "execution_count": null,
   "outputs": [],
   "source": [
    "df['cluster'].apply(lambda x: x.split('-')[1][:-1])"
   ],
   "metadata": {
    "collapsed": false
   }
  },
  {
   "cell_type": "code",
   "execution_count": null,
   "outputs": [],
   "source": [
    "df['clusterID'] = df['cluster'].apply(lambda x: x.split('-')[1][:-1])\n",
    "df"
   ],
   "metadata": {
    "collapsed": false
   }
  },
  {
   "cell_type": "code",
   "execution_count": null,
   "outputs": [],
   "source": [
    "df.to_csv('osm_data_cleaned.csv', index=False)"
   ],
   "metadata": {
    "collapsed": false
   }
  },
  {
   "cell_type": "code",
   "execution_count": null,
   "outputs": [],
   "source": [],
   "metadata": {
    "collapsed": false
   }
  }
 ],
 "metadata": {
  "kernelspec": {
   "display_name": "Python 3",
   "language": "python",
   "name": "python3"
  },
  "language_info": {
   "codemirror_mode": {
    "name": "ipython",
    "version": 2
   },
   "file_extension": ".py",
   "mimetype": "text/x-python",
   "name": "python",
   "nbconvert_exporter": "python",
   "pygments_lexer": "ipython2",
   "version": "2.7.6"
  }
 },
 "nbformat": 4,
 "nbformat_minor": 0
}
