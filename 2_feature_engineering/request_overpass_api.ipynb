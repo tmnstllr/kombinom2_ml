{
 "cells": [
  {
   "cell_type": "code",
   "execution_count": null,
   "metadata": {
    "collapsed": true
   },
   "outputs": [],
   "source": [
    "import pandas as pd\n",
    "import overpy"
   ]
  },
  {
   "cell_type": "code",
   "execution_count": null,
   "outputs": [],
   "source": [
    "# Define the bounding box\n",
    "min_lon = 9.6844408\n",
    "min_lat = 52.0779586\n",
    "max_lon = 9.9935122\n",
    "max_lat = 52.3471095\n",
    "bbox = f\"({min_lat}, {min_lon}, {max_lat}, {max_lon})\""
   ],
   "metadata": {
    "collapsed": false
   }
  },
  {
   "cell_type": "markdown",
   "source": [
    "https://wiki.openstreetmap.org/wiki/Overpass_API/Overpass_API_by_Example\n",
    "https://wiki.openstreetmap.org/wiki/Key:amenity#Sustenance"
   ],
   "metadata": {
    "collapsed": false
   }
  },
  {
   "cell_type": "code",
   "execution_count": null,
   "outputs": [],
   "source": [
    "nodes = {\n",
    "    'shop': ['supermarket', 'doityourself', 'hardware',\n",
    "             'department_store', 'mall', 'wholesale'],\n",
    "    'amenity': ['school', 'kindergarten', 'college',\n",
    "                'university', 'clinic', 'hospital'],\n",
    "    'leisure': ['swimming_pool', 'fitness_centre',\n",
    "                'sports_centre'],\n",
    "    'public_transport': ['stop_position', 'station',\n",
    "                         'plattform']\n",
    "}\n",
    "\n",
    "tag_to_column = {\n",
    "    'name': 'name',\n",
    "    'addr:city': 'city',\n",
    "    'addr:suburb': 'suburb',\n",
    "    'addr:postcode': 'postcode',\n",
    "    'addr:street': 'street',\n",
    "    'addr:housenumber': 'housenumber',\n",
    "    'operator': 'operator',\n",
    "    'local_ref': 'local_ref',\n",
    "    'bus': 'bus',\n",
    "    'tram': 'tram',\n",
    "    'network': 'network',\n",
    "    'railway': 'railway',\n",
    "    'brand': 'brand',\n",
    "}"
   ],
   "metadata": {
    "collapsed": false
   }
  },
  {
   "cell_type": "code",
   "execution_count": null,
   "outputs": [],
   "source": [
    "# Initialize the Overpass API object\n",
    "api = overpy.Overpass()\n",
    "\n",
    "# Initialize an empty list to hold dictionaries of data\n",
    "data_list = []\n",
    "\n",
    "# Iterate through the nodes and their tags to make API queries\n",
    "for key, tags in nodes.items():\n",
    "    for tag in tags:\n",
    "        query = f\"\"\"\n",
    "            [out:json];\n",
    "            nw[{key}={tag}]{bbox};\n",
    "            out center;\n",
    "            \"\"\"\n",
    "        result = api.query(query)\n",
    "\n",
    "        for node in result.nodes + result.ways:\n",
    "            # Create a dictionary with the common columns\n",
    "            node_dict = {\n",
    "                'type': node._type_value,\n",
    "                'category': key,\n",
    "                'subcategory': tag,\n",
    "                'id': node.id,\n",
    "            }\n",
    "\n",
    "            # Store coordinates of nodes\n",
    "            if node_dict['type'] == 'node':\n",
    "                node_dict['lat'] = node.lat\n",
    "                node_dict['lon'] = node.lon\n",
    "            elif node_dict['type'] != 'node':\n",
    "                node_dict['lat'] = node.center_lat\n",
    "                node_dict['lon'] = node.center_lon\n",
    "                node_dict['node_ids'] = node._node_ids\n",
    "\n",
    "            # Add tags as new keys in the dictionary\n",
    "            for tag_key, tag_value in node.tags.items():\n",
    "                if tag_key in tag_to_column:\n",
    "                    node_dict[tag_to_column[tag_key]] = tag_value\n",
    "\n",
    "            # Append the dictionary to the data list\n",
    "            data_list.append(node_dict)\n",
    "\n",
    "# Create a DataFrame from the list of dictionaries\n",
    "df = pd.DataFrame(data_list)\n",
    "\n",
    "# Save the DataFrame as a CSV file\n",
    "df.to_csv('osm_data.csv', index=False)"
   ],
   "metadata": {
    "collapsed": false
   }
  },
  {
   "cell_type": "markdown",
   "source": [
    "### confirm that the main attributes aren't null"
   ],
   "metadata": {
    "collapsed": false
   }
  },
  {
   "cell_type": "code",
   "execution_count": null,
   "outputs": [],
   "source": [
    "df.isnull().any()"
   ],
   "metadata": {
    "collapsed": false
   }
  },
  {
   "cell_type": "code",
   "execution_count": null,
   "outputs": [],
   "source": [],
   "metadata": {
    "collapsed": false
   }
  }
 ],
 "metadata": {
  "kernelspec": {
   "display_name": "Python 3",
   "language": "python",
   "name": "python3"
  },
  "language_info": {
   "codemirror_mode": {
    "name": "ipython",
    "version": 2
   },
   "file_extension": ".py",
   "mimetype": "text/x-python",
   "name": "python",
   "nbconvert_exporter": "python",
   "pygments_lexer": "ipython2",
   "version": "2.7.6"
  }
 },
 "nbformat": 4,
 "nbformat_minor": 0
}
