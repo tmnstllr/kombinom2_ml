{
 "cells": [
  {
   "cell_type": "code",
   "execution_count": null,
   "metadata": {},
   "outputs": [],
   "source": [
    "import pandas as pd\n",
    "import numpy as np\n",
    "import holidays\n",
    "import calendar"
   ]
  },
  {
   "cell_type": "code",
   "execution_count": null,
   "metadata": {},
   "outputs": [],
   "source": [
    "csv = \"combined_data_MP_NE_dT.csv\"\n",
    "df = pd.read_csv(csv)\n",
    "df"
   ]
  },
  {
   "cell_type": "markdown",
   "metadata": {},
   "source": [
    "## column selection, drop columns not needed"
   ]
  },
  {
   "cell_type": "code",
   "execution_count": null,
   "metadata": {
    "scrolled": true
   },
   "outputs": [],
   "source": [
    "#df = df.drop(['startClusterName', 'startClusterZip', 'endClusterName', 'endClusterZip', 'endClusterID', 'distance'], axis=1 )\n",
    "#df"
   ]
  },
  {
   "cell_type": "code",
   "execution_count": null,
   "outputs": [],
   "source": [
    "df.dtypes"
   ],
   "metadata": {
    "collapsed": false
   }
  },
  {
   "cell_type": "code",
   "execution_count": null,
   "outputs": [],
   "source": [
    "df['startClusterID'] = df['startClusterID'].astype(str)"
   ],
   "metadata": {
    "collapsed": false
   }
  },
  {
   "cell_type": "code",
   "execution_count": null,
   "metadata": {
    "scrolled": true
   },
   "outputs": [],
   "source": [
    "#df = df.groupby(['year-month','startClusterID', 'isSchoolHoliday', 'weekday', 'daytime'])['count'].sum().reset_index()\n",
    "#df"
   ]
  },
  {
   "cell_type": "markdown",
   "metadata": {},
   "source": [
    "# Counting Occurrence of each Weekday per Month"
   ]
  },
  {
   "cell_type": "code",
   "execution_count": null,
   "outputs": [],
   "source": [
    "# Create a date range from January 1, 2019, to January 31, 2022\n",
    "start_date = '2019-01-01'\n",
    "end_date = '2022-01-31'\n",
    "date_range = pd.date_range(start=start_date, end=end_date, freq='D')\n",
    "\n",
    "# Create a DataFrame with 'date' and 'weekday' columns\n",
    "df_all_dates = pd.DataFrame({'date': date_range, 'weekday': date_range.day_name()})\n",
    "df_all_dates['date'] = df_all_dates['date'].astype(str)\n",
    "df_all_dates['normal_day'] = 1\n",
    "df_all_dates"
   ],
   "metadata": {
    "collapsed": false
   }
  },
  {
   "cell_type": "markdown",
   "source": [
    "# School Holidays"
   ],
   "metadata": {
    "collapsed": false
   }
  },
  {
   "cell_type": "code",
   "execution_count": null,
   "outputs": [],
   "source": [
    "#read excel file with school holidays\n",
    "df_s_hol_dates = pd.read_excel('school_holiday_ni_2019_2022.xlsx')\n",
    "\n",
    "# Combine the columns \"year,\" \"month,\" and \"day\" into one column \"date\"\n",
    "df_s_hol_dates['date'] = df_s_hol_dates.apply(lambda row: f\"{row['year']}-{row['month']:02d}-{row['day']:02d}\", axis=1)\n",
    "\n",
    "# Drop the other columns \"year,\" \"month,\" and \"day\"\n",
    "df_s_hol_dates.drop(columns=['year', 'month', 'day'], inplace=True)\n",
    "\n",
    "# Convert the \"date\" column to pandas datetime and extract the weekday\n",
    "df_s_hol_dates['weekday'] = pd.to_datetime(df_s_hol_dates['date']).dt.day_name()\n",
    "\n",
    "df_s_hol_dates['School_Holiday'] = 1\n",
    "\n",
    "df_s_hol_dates"
   ],
   "metadata": {
    "collapsed": false
   }
  },
  {
   "cell_type": "code",
   "execution_count": null,
   "outputs": [],
   "source": [
    "# Merge the DataFrames based on 'date' and 'weekday' and perform a left join\n",
    "df_all_s_dates = pd.merge(df_all_dates, df_s_hol_dates, on=['date', 'weekday'], how='left')\n",
    "df_all_s_dates.fillna(0, inplace=True)\n",
    "df_all_s_dates['normal_day'] -= df_all_s_dates['School_Holiday']\n",
    "df_all_s_dates"
   ],
   "metadata": {
    "collapsed": false
   }
  },
  {
   "cell_type": "markdown",
   "source": [
    "# Public Holidays"
   ],
   "metadata": {
    "collapsed": false
   }
  },
  {
   "cell_type": "code",
   "execution_count": null,
   "outputs": [],
   "source": [
    "p_holidays = holidays.country_holidays('DE', subdiv='NI')\n",
    "for year in [2019,2020,2021,2022]:\n",
    "    str(year) in p_holidays\n",
    "\n",
    "list_p_holidays = list(p_holidays.items())\n",
    "list_p_holidays"
   ],
   "metadata": {
    "collapsed": false
   }
  },
  {
   "cell_type": "code",
   "execution_count": null,
   "outputs": [],
   "source": [
    "df_p_holidays = pd.DataFrame(columns=['date', 'weekday'])\n",
    "\n",
    "for i in range (0, len(list_p_holidays)):\n",
    "    df_p_holidays.loc[len(df_p_holidays.index)]= list_p_holidays[i][0]\n",
    "\n",
    "df_p_holidays['weekday'] = df_p_holidays['weekday'].apply(lambda x: x.strftime('%A'))\n",
    "df_p_holidays['Public_Holiday'] = 1\n",
    "df_p_holidays = df_p_holidays[df_p_holidays['date'] <= pd.to_datetime(\"2022-01-31\").date()]\n",
    "df_p_holidays['date'] = df_p_holidays['date'].astype(str)\n",
    "df_p_holidays"
   ],
   "metadata": {
    "collapsed": false
   }
  },
  {
   "cell_type": "markdown",
   "source": [
    "# Merge public with school holidays"
   ],
   "metadata": {
    "collapsed": false
   }
  },
  {
   "cell_type": "code",
   "execution_count": null,
   "outputs": [],
   "source": [
    "df_merged = pd.merge(df_all_s_dates, df_p_holidays, on=['date', 'weekday'], how='outer')\n",
    "df_merged.fillna(0, inplace=True)\n",
    "df_merged"
   ],
   "metadata": {
    "collapsed": false
   }
  },
  {
   "cell_type": "code",
   "execution_count": null,
   "outputs": [],
   "source": [
    "df_merged['S_P_Holiday'] = np.minimum(df_merged['School_Holiday'], df_merged['Public_Holiday'])\n",
    "df_merged['School_Holiday'] -= df_merged['S_P_Holiday']\n",
    "df_merged['Public_Holiday'] -= df_merged['S_P_Holiday']\n",
    "df_merged"
   ],
   "metadata": {
    "collapsed": false
   }
  },
  {
   "cell_type": "code",
   "execution_count": null,
   "outputs": [],
   "source": [
    "df_merged['normal_day'] -= df_merged['Public_Holiday']\n",
    "df_merged"
   ],
   "metadata": {
    "collapsed": false
   }
  },
  {
   "cell_type": "code",
   "execution_count": null,
   "outputs": [],
   "source": [
    "column_sums = df_merged.sum(axis=0)\n",
    "column_sums"
   ],
   "metadata": {
    "collapsed": false
   }
  },
  {
   "cell_type": "code",
   "execution_count": null,
   "outputs": [],
   "source": [
    "# Convert the \"date\" column to a pandas datetime type\n",
    "df_merged['date'] = pd.to_datetime(df_merged['date'])\n",
    "\n",
    "# Group the DataFrame by month and weekday and calculate the sum for other columns\n",
    "df_grouped_by_month_weekday = df_merged.groupby([df_merged['date'].dt.to_period('M'), 'weekday']).agg({'normal_day': 'sum', 'School_Holiday': 'sum', 'Public_Holiday': 'sum', 'S_P_Holiday': 'sum'})\n",
    "\n",
    "# Reset the index\n",
    "#df_grouped_by_month_weekday = df_grouped_by_month_weekday.reset_index()\n",
    "\n",
    "df_grouped_by_month_weekday"
   ],
   "metadata": {
    "collapsed": false
   }
  },
  {
   "cell_type": "code",
   "execution_count": null,
   "outputs": [],
   "source": [
    "# Find the Sunday of each month and update the values for \"Public_Holiday\" and \"S_P_Holiday\" if it exists\n",
    "for month, group in df_grouped_by_month_weekday.groupby(level=0):\n",
    "    sunday_values = group.loc[month, ['Public_Holiday', 'S_P_Holiday']].sum()\n",
    "    df_grouped_by_month_weekday.loc[(month, 'Sunday'), ['Public_Holiday', 'S_P_Holiday']] += sunday_values\n",
    "\n",
    "df_grouped_by_month_weekday"
   ],
   "metadata": {
    "collapsed": false
   }
  },
  {
   "cell_type": "code",
   "execution_count": null,
   "outputs": [],
   "source": [
    "# Find the Sunday of each month and update the values for \"normal_day\" and \"School_Holiday\" if it exists\n",
    "for month, group in df_grouped_by_month_weekday.groupby(level=0):\n",
    "    sunday_values = group.loc[(month, 'Sunday'), ['Public_Holiday']].sum()\n",
    "    df_grouped_by_month_weekday.loc[(month, 'Sunday'), ['normal_day']] += sunday_values\n",
    "\n",
    "    sunday_values = group.loc[(month, 'Sunday'), ['S_P_Holiday']].sum()\n",
    "    df_grouped_by_month_weekday.loc[(month, 'Sunday'), ['School_Holiday']] += sunday_values\n",
    "\n",
    "df_grouped_by_month_weekday"
   ],
   "metadata": {
    "collapsed": false
   }
  },
  {
   "cell_type": "code",
   "execution_count": null,
   "outputs": [],
   "source": [
    "column_sums = df_grouped_by_month_weekday.sum(axis=0)\n",
    "column_sums"
   ],
   "metadata": {
    "collapsed": false
   }
  },
  {
   "cell_type": "code",
   "execution_count": null,
   "outputs": [],
   "source": [
    "# Reset the index to remove the 'weekday' index level\n",
    "df_grouped_by_month_weekday = df_grouped_by_month_weekday.reset_index()\n",
    "df_grouped_by_month_weekday"
   ],
   "metadata": {
    "collapsed": false
   }
  },
  {
   "cell_type": "code",
   "execution_count": null,
   "outputs": [],
   "source": [
    "df_grouped_by_month_weekday.drop(columns=['Public_Holiday', 'S_P_Holiday'], inplace=True)\n",
    "df_grouped_by_month_weekday"
   ],
   "metadata": {
    "collapsed": false
   }
  },
  {
   "cell_type": "markdown",
   "source": [
    "# combine with df"
   ],
   "metadata": {
    "collapsed": false
   }
  },
  {
   "cell_type": "code",
   "execution_count": null,
   "outputs": [],
   "source": [
    "df"
   ],
   "metadata": {
    "collapsed": false
   }
  },
  {
   "cell_type": "code",
   "execution_count": null,
   "outputs": [],
   "source": [
    "df['weekday'].unique()"
   ],
   "metadata": {
    "collapsed": false
   }
  },
  {
   "cell_type": "code",
   "execution_count": null,
   "outputs": [],
   "source": [
    "df_grouped_by_month_weekday['weekday'].unique()"
   ],
   "metadata": {
    "collapsed": false
   }
  },
  {
   "cell_type": "code",
   "execution_count": null,
   "outputs": [],
   "source": [
    "df_grouped_by_month_weekday.replace({'weekday':{'Sunday': 'Sunday/Holiday'}}, inplace=True)\n",
    "df_grouped_by_month_weekday['weekday'].unique()"
   ],
   "metadata": {
    "collapsed": false
   }
  },
  {
   "cell_type": "code",
   "execution_count": null,
   "outputs": [],
   "source": [
    "df_grouped_by_month_weekday.rename(columns={'date': 'year-month'}, inplace=True)\n",
    "df_grouped_by_month_weekday['year-month'] = df_grouped_by_month_weekday['year-month'].astype(str)\n",
    "df_grouped_by_month_weekday"
   ],
   "metadata": {
    "collapsed": false
   }
  },
  {
   "cell_type": "code",
   "execution_count": null,
   "outputs": [],
   "source": [
    "# Convert month to strings with leading zeros\n",
    "df['month'] = df['month'].apply(lambda x: str(x).zfill(2))\n",
    "\n",
    "# Concatenate 'year' and 'month' to form 'year-month'\n",
    "df['year-month'] = df['year'].astype(str) + '-' + df['month']\n",
    "df"
   ],
   "metadata": {
    "collapsed": false
   }
  },
  {
   "cell_type": "code",
   "execution_count": null,
   "outputs": [],
   "source": [
    "df_merged = pd.merge(df, df_grouped_by_month_weekday, on=['year-month', 'weekday'], how='left')\n",
    "df_merged"
   ],
   "metadata": {
    "collapsed": false
   }
  },
  {
   "cell_type": "code",
   "execution_count": null,
   "outputs": [],
   "source": [
    "contains_nan = df_merged.isnull().any()\n",
    "contains_nan"
   ],
   "metadata": {
    "collapsed": false
   }
  },
  {
   "cell_type": "code",
   "execution_count": null,
   "outputs": [],
   "source": [
    "# Create a custom function to calculate \"count_corrected\" based on conditions\n",
    "def calculate_count_corrected(row):\n",
    "    if row['isSchoolHoliday']:\n",
    "        divider = row['School_Holiday']\n",
    "    else:\n",
    "        divider = row['normal_day']\n",
    "\n",
    "    if divider == 0:\n",
    "        return row['count']\n",
    "    else:\n",
    "        return row['count'] / divider\n",
    "\n",
    "# Apply the custom function to create the \"count_corrected\" column\n",
    "df_merged['count_corrected'] = df_merged.apply(calculate_count_corrected, axis=1)\n",
    "df_merged['count_corrected'] = df_merged['count_corrected'].round(2)\n",
    "df_merged"
   ],
   "metadata": {
    "collapsed": false
   }
  },
  {
   "cell_type": "code",
   "execution_count": null,
   "outputs": [],
   "source": [
    "df_merged.dtypes"
   ],
   "metadata": {
    "collapsed": false
   }
  },
  {
   "cell_type": "code",
   "execution_count": null,
   "outputs": [],
   "source": [
    "df_merged.drop(columns=['School_Holiday', 'normal_day'], inplace=True)\n",
    "df_merged"
   ],
   "metadata": {
    "collapsed": false
   }
  },
  {
   "cell_type": "code",
   "execution_count": null,
   "outputs": [],
   "source": [
    "df_merged['month'] = df_merged['month'].astype(int)\n",
    "df_merged"
   ],
   "metadata": {
    "collapsed": false
   }
  },
  {
   "cell_type": "code",
   "execution_count": null,
   "outputs": [],
   "source": [
    "df_merged.drop(columns='year-month', inplace=True)"
   ],
   "metadata": {
    "collapsed": false
   }
  },
  {
   "cell_type": "code",
   "execution_count": null,
   "outputs": [],
   "source": [
    "df_merged.to_csv(csv.split(sep='.')[0] + '_cC' + '.csv', index=False)"
   ],
   "metadata": {
    "collapsed": false
   }
  },
  {
   "cell_type": "code",
   "execution_count": null,
   "outputs": [],
   "source": [
    "description = df_merged['count_corrected'].describe()\n",
    "description = description.round(2)\n",
    "description"
   ],
   "metadata": {
    "collapsed": false
   }
  },
  {
   "cell_type": "markdown",
   "source": [],
   "metadata": {
    "collapsed": false
   }
  },
  {
   "cell_type": "code",
   "execution_count": null,
   "outputs": [],
   "source": [
    "description = df_merged['count'].describe()\n",
    "description = description.round(2)\n",
    "description"
   ],
   "metadata": {
    "collapsed": false
   }
  },
  {
   "cell_type": "code",
   "execution_count": null,
   "outputs": [],
   "source": [
    "sid = '03254028001013'\n",
    "eid = '03254028001003'\n",
    "filtered_df = df_merged[\n",
    "    (df_merged['startClusterID'] == sid) &\n",
    "    (df_merged['endClusterID'] == eid) &\n",
    "    (df_merged['year'] == 2019) &\n",
    "    (df_merged['month'] == 6)\n",
    "    ]\n",
    "filtered_df"
   ],
   "metadata": {
    "collapsed": false
   }
  },
  {
   "cell_type": "code",
   "execution_count": null,
   "outputs": [],
   "source": [
    "filtered_df_grouped = filtered_df.groupby(['year', 'month', 'startClusterID', 'endClusterID', 'weekday', 'isSchoolHoliday', 'normal_day', 'School_Holiday']).agg({\n",
    "    'count': 'sum',\n",
    "    'count_corrected': 'sum'\n",
    "})\n",
    "filtered_df_grouped"
   ],
   "metadata": {
    "collapsed": false
   }
  },
  {
   "cell_type": "code",
   "execution_count": null,
   "outputs": [],
   "source": [
    "df_filtered = df[\n",
    "    (df['startClusterID'] == '03254028001013') &\n",
    "    (df['endClusterID'] == '03254028001003') &\n",
    "    (df['year'] == 2019) &\n",
    "    (df['month'] == 6)\n",
    "    ]\n",
    "df_filtered"
   ],
   "metadata": {
    "collapsed": false
   }
  },
  {
   "cell_type": "code",
   "execution_count": null,
   "outputs": [],
   "source": [
    "create Dataframe (DF) with all dates for time span\n",
    "input file with school holiday dates\n",
    "merge DF from l1 and l2\n",
    "create DF with public holiday dates in time span\n",
    "merge with DF from l3\n",
    "create attributes to count different types of days (normal, schoolHoliday, publicHoliday, schoolPublicHoliday)\n",
    "assign sPH to min(sH, pH) and subtract sPH from sH and pH\n",
    "find weekdays != Sunday that are pH or sPH and add their count to Sunday of same month\n",
    "drop pH and sPH\n",
    "input CSV file and merge with l5\n",
    "create new attribute count_corrected and assign it values by dividing count by normal or sH\n",
    "drop normal and sH\n",
    "voila\n"
   ],
   "metadata": {
    "collapsed": false
   }
  },
  {
   "cell_type": "code",
   "execution_count": null,
   "outputs": [],
   "source": [
    "import matplotlib as mpl\n",
    "import matplotlib.pyplot as plt\n",
    "#matplotlib.rc_file_defaults()\n",
    "mpl.rcParams.update(mpl.rcParamsDefault)\n",
    "# Set the font family to Arial\n",
    "mpl.rcParams['font.family'] = 'sans-serif'\n",
    "mpl.rcParams['font.sans-serif'] = ['Arial']\n",
    "\n",
    "dpi = 500\n",
    "font_title = 16\n",
    "font_label = 15\n",
    "font_chart = 13\n",
    "weight_label = 'bold'\n",
    "weight_title = 'bold'\n",
    "pad_label = 10\n",
    "alpha = 0.7"
   ],
   "metadata": {
    "collapsed": false
   }
  },
  {
   "cell_type": "code",
   "execution_count": null,
   "outputs": [],
   "source": [
    "# Create a figure and axes\n",
    "plt.figure(figsize=(6, 4))\n",
    "\n",
    "# Create a box plot for 'count' and 'count_corrected'\n",
    "plt.boxplot([df_merged['count'], df_merged['count_corrected']], vert=False)\n",
    "\n",
    "# Set y-axis labels\n",
    "plt.yticks([1, 2], ['count', 'count_corrected'], fontsize=font_chart)\n",
    "plt.ylabel('Attribute', fontsize=font_label, labelpad=pad_label, weight=weight_label)\n",
    "plt.xticks(fontsize=font_chart)\n",
    "plt.xlabel('Value', fontsize=font_label, labelpad=pad_label, weight=weight_label)\n",
    "\n",
    "# Set plot title\n",
    "plt.title('Box Plot for Count and Count Corrected',fontsize=font_title, weight=weight_title)\n",
    "plt.savefig('/Users/timon/Documents/ba/abbildungen/' + 'comparison_count_countCorrected.png', dpi=dpi)\n",
    "\n",
    "# Show the plot\n",
    "plt.show()"
   ],
   "metadata": {
    "collapsed": false
   }
  },
  {
   "cell_type": "code",
   "execution_count": null,
   "outputs": [],
   "source": [],
   "metadata": {
    "collapsed": false
   }
  }
 ],
 "metadata": {
  "kernelspec": {
   "display_name": "Python 3",
   "language": "python",
   "name": "python3"
  },
  "language_info": {
   "codemirror_mode": {
    "name": "ipython",
    "version": 3
   },
   "file_extension": ".py",
   "mimetype": "text/x-python",
   "name": "python",
   "nbconvert_exporter": "python",
   "pygments_lexer": "ipython3",
   "version": "3.7.4"
  }
 },
 "nbformat": 4,
 "nbformat_minor": 2
}
