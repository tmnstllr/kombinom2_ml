{
 "cells": [
  {
   "cell_type": "code",
   "execution_count": null,
   "metadata": {
    "collapsed": true
   },
   "outputs": [],
   "source": [
    "import pandas as pd\n",
    "import numpy as np"
   ]
  },
  {
   "cell_type": "code",
   "execution_count": null,
   "outputs": [],
   "source": [
    "csv = \"combined_data_MP_NE.csv\"\n",
    "df = pd.read_csv(csv)\n",
    "df"
   ],
   "metadata": {
    "collapsed": false
   }
  },
  {
   "cell_type": "markdown",
   "source": [
    "## rename columns (ger->en)"
   ],
   "metadata": {
    "collapsed": false
   }
  },
  {
   "cell_type": "code",
   "execution_count": null,
   "outputs": [],
   "source": [
    "df.rename(columns={'Bucket': 'year-month'}, inplace=True)\n",
    "df.rename(columns={'Wochentag': 'weekday'}, inplace=True)\n",
    "df.rename(columns={'Tageszeit': 'daytime'}, inplace=True)\n",
    "df.rename(columns={'Schulferien': 'isSchoolHoliday'}, inplace=True)\n",
    "df.rename(columns={'Distanz': 'distance'}, inplace=True)\n",
    "df.rename(columns={'Count': 'count'}, inplace=True)\n",
    "df.rename(columns={'StartName': 'startName'}, inplace=True)\n",
    "#df.rename(columns={'StartId': 'startID'}, inplace=True)\n",
    "df.rename(columns={'EndName': 'endName'}, inplace=True)\n",
    "#df.rename(columns={'EndId': 'endID'}, inplace=True)\n",
    "#df.rename(columns={'StartLon': 'startLon'}, inplace=True)\n",
    "#df.rename(columns={'StartLat': 'startLat'}, inplace=True)\n",
    "#df.rename(columns={'EndLon': 'endLon'}, inplace=True)\n",
    "#df.rename(columns={'EndLat': 'endLat'}, inplace=True)\n",
    "df"
   ],
   "metadata": {
    "collapsed": false
   }
  },
  {
   "cell_type": "code",
   "execution_count": null,
   "outputs": [],
   "source": [
    "unique_values_StartId = df.StartId.unique()\n",
    "unique_values_StartId.sort()\n",
    "unique_values_StartId"
   ],
   "metadata": {
    "collapsed": false
   }
  },
  {
   "cell_type": "markdown",
   "source": [
    "## split StartId"
   ],
   "metadata": {
    "collapsed": false
   }
  },
  {
   "cell_type": "code",
   "execution_count": null,
   "outputs": [],
   "source": [
    "df[['startClusterID', 'startID']] = df['StartId'].str.split('_', expand=True)\n",
    "df"
   ],
   "metadata": {
    "collapsed": false
   }
  },
  {
   "cell_type": "code",
   "execution_count": null,
   "outputs": [],
   "source": [
    "df.startID.unique()"
   ],
   "metadata": {
    "collapsed": false
   }
  },
  {
   "cell_type": "markdown",
   "source": [
    "## split StartName\n",
    "before we can split Startname we have to unify the values"
   ],
   "metadata": {
    "collapsed": false
   }
  },
  {
   "cell_type": "code",
   "execution_count": null,
   "outputs": [],
   "source": [
    "# Function to append the string to values shorter than 29 characters\n",
    "def append_string(value, cluster_id):\n",
    "    if len(value) < 29:\n",
    "        return value + \" (30000 - \" + str(cluster_id) + \")\"\n",
    "    else:\n",
    "        return value\n",
    "\n",
    "# Apply the function to the 'StartName' column\n",
    "df['startName'] = df.apply(lambda row: append_string(row['startName'], row['startClusterID']), axis=1)\n",
    "df"
   ],
   "metadata": {
    "collapsed": false
   }
  },
  {
   "cell_type": "markdown",
   "source": [
    "check if it worked"
   ],
   "metadata": {
    "collapsed": false
   }
  },
  {
   "cell_type": "code",
   "execution_count": null,
   "outputs": [],
   "source": [
    "unique_values_StartName = df.StartName.unique()\n",
    "unique_values_StartName.sort()\n",
    "unique_values_StartName"
   ],
   "metadata": {
    "collapsed": false
   }
  },
  {
   "cell_type": "markdown",
   "source": [
    "now split"
   ],
   "metadata": {
    "collapsed": false
   }
  },
  {
   "cell_type": "code",
   "execution_count": null,
   "outputs": [],
   "source": [
    "df[['startClusterName', 'startClusterZip']] = df['startName'].str.split(' \\(3', expand=True) #extract(r'^(.*?)\\s\\((.*)\\)$')\n",
    "df['startClusterZip'] = df['startClusterZip'].astype(str).str.split('-').apply(lambda x: x[0])\n",
    "df['startClusterZip'] = df['startClusterZip'].astype(int) + 30000\n",
    "df"
   ],
   "metadata": {
    "collapsed": false
   }
  },
  {
   "cell_type": "markdown",
   "source": [
    "alternate way to get the startClusterID"
   ],
   "metadata": {
    "collapsed": false
   }
  },
  {
   "cell_type": "code",
   "execution_count": null,
   "outputs": [],
   "source": [
    "df['startClusterID'] = df['startName'].apply(lambda x: x.split('- ')[1][:-1]) #extract(r'^(.*?)\\s\\((.*)\\)$')\n",
    "df"
   ],
   "metadata": {
    "collapsed": false
   }
  },
  {
   "cell_type": "markdown",
   "source": [
    "check results"
   ],
   "metadata": {
    "collapsed": false
   }
  },
  {
   "cell_type": "code",
   "execution_count": null,
   "outputs": [],
   "source": [
    "unique_values_startClusterName = df.startClusterName.unique()\n",
    "unique_values_startClusterName.sort()\n",
    "unique_values_startClusterName"
   ],
   "metadata": {
    "collapsed": false
   }
  },
  {
   "cell_type": "code",
   "execution_count": null,
   "outputs": [],
   "source": [
    "unique_values_startClusterZip = df.startClusterZip.unique()\n",
    "unique_values_startClusterZip.sort()\n",
    "unique_values_startClusterZip"
   ],
   "metadata": {
    "collapsed": false
   }
  },
  {
   "cell_type": "markdown",
   "source": [
    "## repeat the same for EndId and EndName"
   ],
   "metadata": {
    "collapsed": false
   }
  },
  {
   "cell_type": "markdown",
   "source": [
    "### split endid"
   ],
   "metadata": {
    "collapsed": false
   }
  },
  {
   "cell_type": "code",
   "execution_count": null,
   "outputs": [],
   "source": [
    "df[['endClusterID', 'endID']] = df['EndId'].str.split('_', expand=True)\n",
    "df"
   ],
   "metadata": {
    "collapsed": false
   }
  },
  {
   "cell_type": "markdown",
   "source": [
    "### split endname"
   ],
   "metadata": {
    "collapsed": false
   }
  },
  {
   "cell_type": "markdown",
   "source": [
    "before we can split EndName we have to unify the values"
   ],
   "metadata": {
    "collapsed": false
   }
  },
  {
   "cell_type": "code",
   "execution_count": null,
   "outputs": [],
   "source": [
    "# Apply the function to the 'EndName' column\n",
    "df['endName'] = df.apply(lambda row: append_string(row['endName'], row['endClusterID']), axis=1)\n",
    "df"
   ],
   "metadata": {
    "collapsed": false
   }
  },
  {
   "cell_type": "markdown",
   "source": [
    "check if it worked"
   ],
   "metadata": {
    "collapsed": false
   }
  },
  {
   "cell_type": "code",
   "execution_count": null,
   "outputs": [],
   "source": [
    "unique_values_EndName = df.EndName.unique()\n",
    "unique_values_EndName.sort()\n",
    "unique_values_EndName"
   ],
   "metadata": {
    "collapsed": false
   }
  },
  {
   "cell_type": "markdown",
   "source": [
    "now split"
   ],
   "metadata": {
    "collapsed": false
   }
  },
  {
   "cell_type": "code",
   "execution_count": null,
   "outputs": [],
   "source": [
    "df[['endClusterName', 'endClusterZip']] = df['endName'].str.split(' \\(3', expand=True) #extract(r'^(.*?)\\s\\((.*)\\)$')\n",
    "df['endClusterZip'] = df['endClusterZip'].astype(str).str.split('-').apply(lambda x: x[0])\n",
    "df['endClusterZip'] = df['endClusterZip'].astype(int) + 30000\n",
    "df"
   ],
   "metadata": {
    "collapsed": false
   }
  },
  {
   "cell_type": "markdown",
   "source": [
    "alternate way to get endClusterID"
   ],
   "metadata": {
    "collapsed": false
   }
  },
  {
   "cell_type": "code",
   "execution_count": null,
   "outputs": [],
   "source": [
    "df['endClusterID'] = df['EndName'].apply(lambda x: x.split('- ')[1][:-1]) #extract(r'^(.*?)\\s\\((.*)\\)$')\n",
    "df"
   ],
   "metadata": {
    "collapsed": false
   }
  },
  {
   "cell_type": "markdown",
   "source": [
    "check result"
   ],
   "metadata": {
    "collapsed": false
   }
  },
  {
   "cell_type": "code",
   "execution_count": null,
   "outputs": [],
   "source": [
    "unique_values_endClusterName = df.endClusterName.unique()\n",
    "unique_values_endClusterName.sort()\n",
    "unique_values_endClusterName"
   ],
   "metadata": {
    "collapsed": false
   }
  },
  {
   "cell_type": "code",
   "execution_count": null,
   "outputs": [],
   "source": [
    "unique_values_endClusterZip = df.endClusterZip.unique()\n",
    "unique_values_endClusterZip.sort()\n",
    "unique_values_endClusterZip"
   ],
   "metadata": {
    "collapsed": false
   }
  },
  {
   "cell_type": "markdown",
   "source": [
    "# split bucket into year and month"
   ],
   "metadata": {
    "collapsed": false
   }
  },
  {
   "cell_type": "code",
   "execution_count": null,
   "outputs": [],
   "source": [
    "df[['year', 'month']] = df['year-month'].str.split('-',expand=True)\n",
    "df['year'] = df['year'].astype(int)\n",
    "df['month'] = df['month'].astype(int)\n",
    "df"
   ],
   "metadata": {
    "collapsed": false
   }
  },
  {
   "cell_type": "markdown",
   "source": [
    "## rename weekdays"
   ],
   "metadata": {
    "collapsed": false
   }
  },
  {
   "cell_type": "code",
   "execution_count": null,
   "outputs": [],
   "source": [
    "df.replace({'weekday':{'Mo':'Monday','Di':'Tuesday','Mi':'Wednesday','Do':'Thursday','Fr':'Friday','Sa':'Saturday','So/Fe':'Sunday/Holiday'}}, inplace=True)\n",
    "df"
   ],
   "metadata": {
    "collapsed": false
   }
  },
  {
   "cell_type": "markdown",
   "source": [
    "## convert isSchoolHoliday to boolean"
   ],
   "metadata": {
    "collapsed": false
   }
  },
  {
   "cell_type": "code",
   "execution_count": null,
   "outputs": [],
   "source": [
    "# Convert values of 'isSchoolHoliday' to Boolean Type using numpy.where()\n",
    "df['isSchoolHoliday'] = np.where(df['isSchoolHoliday'].isin(['Ferien']), True, False)\n",
    "df['isSchoolHoliday'] = df['isSchoolHoliday'].astype(bool)\n",
    "df"
   ],
   "metadata": {
    "collapsed": false
   }
  },
  {
   "cell_type": "markdown",
   "source": [
    "# drop columns no longer used"
   ],
   "metadata": {
    "collapsed": false
   }
  },
  {
   "cell_type": "code",
   "execution_count": null,
   "outputs": [],
   "source": [
    "df = df.drop(columns=['StartId', 'EndId'])\n",
    "df"
   ],
   "metadata": {
    "collapsed": false
   }
  },
  {
   "cell_type": "code",
   "execution_count": null,
   "outputs": [],
   "source": [
    "df = df.drop(columns=['year-month'])\n",
    "df"
   ],
   "metadata": {
    "collapsed": false
   }
  },
  {
   "cell_type": "code",
   "execution_count": null,
   "outputs": [],
   "source": [
    "df.dtypes"
   ],
   "metadata": {
    "collapsed": false
   }
  },
  {
   "cell_type": "code",
   "execution_count": null,
   "outputs": [],
   "source": [
    "df.isnull().any()"
   ],
   "metadata": {
    "collapsed": false
   }
  },
  {
   "cell_type": "markdown",
   "source": [
    "# reindex columns"
   ],
   "metadata": {
    "collapsed": false
   }
  },
  {
   "cell_type": "code",
   "execution_count": null,
   "outputs": [],
   "source": [
    "df_result = df.reindex(columns=['year', 'month','startClusterName', 'startClusterZip', 'startClusterID', 'startID', 'endClusterName', 'endClusterZip', 'endClusterID', 'endID', 'weekday', 'daytime','isSchoolHoliday', 'distance', 'count'])\n",
    "df_result"
   ],
   "metadata": {
    "collapsed": false
   }
  },
  {
   "cell_type": "code",
   "execution_count": null,
   "outputs": [],
   "source": [
    "df_result['startClusterID'].unique()"
   ],
   "metadata": {
    "collapsed": false
   }
  },
  {
   "cell_type": "code",
   "execution_count": null,
   "outputs": [],
   "source": [
    "df_result['endClusterID'].unique()"
   ],
   "metadata": {
    "collapsed": false
   }
  },
  {
   "cell_type": "code",
   "execution_count": null,
   "outputs": [],
   "source": [
    "df_result.dtypes"
   ],
   "metadata": {
    "collapsed": false
   }
  },
  {
   "cell_type": "code",
   "execution_count": null,
   "outputs": [],
   "source": [
    "df_result.fillna(0, inplace=True)"
   ],
   "metadata": {
    "collapsed": false
   }
  },
  {
   "cell_type": "code",
   "execution_count": null,
   "outputs": [],
   "source": [
    "df_result['startID'] = df_result['startID'].astype(int)\n",
    "df_result['endID'] = df_result['endID'].astype(int)"
   ],
   "metadata": {
    "collapsed": false
   }
  },
  {
   "cell_type": "code",
   "execution_count": null,
   "outputs": [],
   "source": [
    "df_result.to_csv(csv.split(sep='.')[0] + '_dT' + '.csv', index=False)"
   ],
   "metadata": {
    "collapsed": false
   }
  },
  {
   "cell_type": "code",
   "execution_count": null,
   "outputs": [],
   "source": [],
   "metadata": {
    "collapsed": false
   }
  }
 ],
 "metadata": {
  "kernelspec": {
   "display_name": "Python 3",
   "language": "python",
   "name": "python3"
  },
  "language_info": {
   "codemirror_mode": {
    "name": "ipython",
    "version": 2
   },
   "file_extension": ".py",
   "mimetype": "text/x-python",
   "name": "python",
   "nbconvert_exporter": "python",
   "pygments_lexer": "ipython2",
   "version": "2.7.6"
  }
 },
 "nbformat": 4,
 "nbformat_minor": 0
}
