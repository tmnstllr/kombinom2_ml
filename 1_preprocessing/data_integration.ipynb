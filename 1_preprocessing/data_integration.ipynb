{
 "cells": [
  {
   "cell_type": "code",
   "execution_count": null,
   "metadata": {
    "collapsed": true
   },
   "outputs": [],
   "source": [
    "import pandas as pd\n",
    "import numpy as np"
   ]
  },
  {
   "cell_type": "markdown",
   "source": [
    "# Map Cluster outside Study Area to inside major transportation connectors"
   ],
   "metadata": {
    "collapsed": false
   }
  },
  {
   "cell_type": "code",
   "execution_count": null,
   "outputs": [],
   "source": [
    "csv_api = \"traveltime_results_top1_all.csv\"\n",
    "df_api = pd.read_csv(csv_api)\n",
    "df_api"
   ],
   "metadata": {
    "collapsed": false
   }
  },
  {
   "cell_type": "code",
   "execution_count": null,
   "outputs": [],
   "source": [
    "csv = \"combined_data_MP_NE.csv\"\n",
    "df = pd.read_csv(csv)\n",
    "df"
   ],
   "metadata": {
    "collapsed": false
   }
  },
  {
   "cell_type": "code",
   "execution_count": null,
   "outputs": [],
   "source": [
    "df['StartName'].unique()"
   ],
   "metadata": {
    "collapsed": false
   }
  },
  {
   "cell_type": "code",
   "execution_count": null,
   "outputs": [],
   "source": [
    "# Create a mapping dictionary from df_api\n",
    "mapping_dict = df_api.set_index('search_id')['id'].to_dict()\n",
    "\n",
    "# Apply the mapping to the StartName column in df, keeping original value if no match\n",
    "df['StartName'] = df['StartName'].apply(lambda x: mapping_dict.get(x, x))\n",
    "df"
   ],
   "metadata": {
    "collapsed": false
   }
  },
  {
   "cell_type": "code",
   "execution_count": null,
   "outputs": [],
   "source": [
    "df.StartName.unique()"
   ],
   "metadata": {
    "collapsed": false
   }
  },
  {
   "cell_type": "code",
   "execution_count": null,
   "outputs": [],
   "source": [
    "# Apply the mapping to the EndName column in df, keeping original value if no match\n",
    "df['EndName'] = df['EndName'].apply(lambda x: mapping_dict.get(x, x))\n",
    "df"
   ],
   "metadata": {
    "collapsed": false
   }
  },
  {
   "cell_type": "code",
   "execution_count": null,
   "outputs": [],
   "source": [
    "df.EndName.unique()"
   ],
   "metadata": {
    "collapsed": false
   }
  },
  {
   "cell_type": "code",
   "execution_count": null,
   "outputs": [],
   "source": [
    "df.StartId.unique()"
   ],
   "metadata": {
    "collapsed": false
   }
  },
  {
   "cell_type": "code",
   "execution_count": null,
   "outputs": [],
   "source": [
    "df.drop(columns=['StartId', 'EndId'], inplace=True)"
   ],
   "metadata": {
    "collapsed": false
   }
  },
  {
   "cell_type": "code",
   "execution_count": null,
   "outputs": [],
   "source": [
    "df_result = df.groupby(['Bucket', 'StartName', 'EndName', 'Wochentag', 'Tageszeit', 'Schulferien']).agg({\n",
    "    'Count': 'sum',\n",
    "    'Distanz': 'mean'\n",
    "}).reset_index()\n",
    "#df_result.rename(columns={'Distanz': 'mean_distance'}, inplace=True)\n",
    "df_result"
   ],
   "metadata": {
    "collapsed": false
   }
  },
  {
   "cell_type": "code",
   "execution_count": null,
   "outputs": [],
   "source": [
    "df_result.Distanz.describe()"
   ],
   "metadata": {
    "collapsed": false
   }
  },
  {
   "cell_type": "code",
   "execution_count": null,
   "outputs": [],
   "source": [
    "duplicated_count = df_result.duplicated().sum()\n",
    "duplicated_count"
   ],
   "metadata": {
    "collapsed": false
   }
  },
  {
   "cell_type": "code",
   "execution_count": null,
   "outputs": [],
   "source": [
    "df.Count.describe()"
   ],
   "metadata": {
    "collapsed": false
   }
  },
  {
   "cell_type": "code",
   "execution_count": null,
   "outputs": [],
   "source": [
    "df_result.Count.describe()"
   ],
   "metadata": {
    "collapsed": false
   }
  },
  {
   "cell_type": "code",
   "execution_count": null,
   "outputs": [],
   "source": [
    "# Count the occurrences where startClusterID and endClusterID are the same\n",
    "same_cluster_count = df_result[df_result['StartName'] == df_result['EndName']].shape[0]\n",
    "same_cluster_count"
   ],
   "metadata": {
    "collapsed": false
   }
  },
  {
   "cell_type": "code",
   "execution_count": null,
   "outputs": [],
   "source": [
    "# drop the rows where StartName is equal to EndName\n",
    "df_result = df_result[df_result['StartName'] != df_result['EndName']]\n",
    "df_result"
   ],
   "metadata": {
    "collapsed": false
   }
  },
  {
   "cell_type": "code",
   "execution_count": null,
   "outputs": [],
   "source": [
    "df_result.to_csv(csv.split('.')[0] + '_mappedUCOtoMTC.csv', index=False)"
   ],
   "metadata": {
    "collapsed": false
   }
  },
  {
   "cell_type": "markdown",
   "source": [
    "# Merge bottom 30% inside Study Area"
   ],
   "metadata": {
    "collapsed": false
   }
  },
  {
   "cell_type": "code",
   "execution_count": null,
   "outputs": [],
   "source": [
    "import pandas as pd\n",
    "import numpy as np"
   ],
   "metadata": {
    "collapsed": false
   }
  },
  {
   "cell_type": "code",
   "execution_count": null,
   "outputs": [],
   "source": [
    "xlsx = \"mappingInsideStudyArea.xlsx\"\n",
    "df_xlsx = pd.read_excel(xlsx)\n",
    "df_xlsx"
   ],
   "metadata": {
    "collapsed": false
   }
  },
  {
   "cell_type": "code",
   "execution_count": null,
   "outputs": [],
   "source": [
    "# Create a mapping dictionary from df_xlsx\n",
    "mapping_dict_inside = df_xlsx.set_index('search_id')['id'].to_dict()\n",
    "mapping_dict_inside"
   ],
   "metadata": {
    "collapsed": false
   }
  },
  {
   "cell_type": "code",
   "execution_count": null,
   "outputs": [],
   "source": [
    "csv_sa = \"combined_data_MP_NE_dT_cC_Coord_hildesheimMerged.csv\"\n",
    "df_sa = pd.read_csv(csv_sa)\n",
    "df_sa"
   ],
   "metadata": {
    "collapsed": false
   }
  },
  {
   "cell_type": "code",
   "execution_count": null,
   "outputs": [],
   "source": [
    "df_sa.distance.describe()"
   ],
   "metadata": {
    "collapsed": false
   }
  },
  {
   "cell_type": "code",
   "execution_count": null,
   "outputs": [],
   "source": [
    "df_sa.drop(columns=['startLon', 'startLat', 'endLon', 'endLat', 'startClusterName', 'startClusterZip', 'endClusterName', 'endClusterZip'], inplace=True)\n",
    "df_sa"
   ],
   "metadata": {
    "collapsed": false
   }
  },
  {
   "cell_type": "code",
   "execution_count": null,
   "outputs": [],
   "source": [
    "df_sa.startClusterID.unique()"
   ],
   "metadata": {
    "collapsed": false
   }
  },
  {
   "cell_type": "code",
   "execution_count": null,
   "outputs": [],
   "source": [
    "# Apply the mapping to the column in df, keeping original value if no match\n",
    "df_sa['startClusterID'] = df_sa['startClusterID'].apply(lambda x: mapping_dict_inside.get(x, x))\n",
    "df_sa"
   ],
   "metadata": {
    "collapsed": false
   }
  },
  {
   "cell_type": "code",
   "execution_count": null,
   "outputs": [],
   "source": [
    "df_sa.startClusterID.unique()"
   ],
   "metadata": {
    "collapsed": false
   }
  },
  {
   "cell_type": "code",
   "execution_count": null,
   "outputs": [],
   "source": [
    "# Apply the mapping to the column in df, keeping original value if no match\n",
    "df_sa['endClusterID'] = df_sa['endClusterID'].apply(lambda x: mapping_dict_inside.get(x, x))\n",
    "df_sa"
   ],
   "metadata": {
    "collapsed": false
   }
  },
  {
   "cell_type": "code",
   "execution_count": null,
   "outputs": [],
   "source": [
    "df_sa.endClusterID.unique()"
   ],
   "metadata": {
    "collapsed": false
   }
  },
  {
   "cell_type": "code",
   "execution_count": null,
   "outputs": [],
   "source": [
    "df_sa_result = df_sa.groupby(['year', 'month', 'startClusterID', 'endClusterID', 'weekday', 'daytime', 'isSchoolHoliday']).agg({\n",
    "    'count': 'sum',\n",
    "    'count_corrected': 'sum',\n",
    "    'distance': 'mean',\n",
    "    'startClusterName': 'first',\n",
    "    'startClusterZip': 'first',\n",
    "    'startID': 'mean',\n",
    "    'endClusterName': 'first',\n",
    "    'endClusterZip': 'first',\n",
    "    'endID': 'mean',\n",
    "    'startLon': 'mean',\n",
    "    'startLat': 'mean',\n",
    "    'endLat': 'mean',\n",
    "    'endLon': 'mean'\n",
    "}).reset_index()\n",
    "df_sa_result"
   ],
   "metadata": {
    "collapsed": false
   }
  },
  {
   "cell_type": "code",
   "execution_count": null,
   "outputs": [],
   "source": [
    "df_sa_result.rename(columns={'distance': 'mean_distance'}, inplace=True)\n",
    "df_sa_result"
   ],
   "metadata": {
    "collapsed": false
   }
  },
  {
   "cell_type": "code",
   "execution_count": null,
   "outputs": [],
   "source": [
    "df_sa_result.mean_distance.describe()"
   ],
   "metadata": {
    "collapsed": false
   }
  },
  {
   "cell_type": "code",
   "execution_count": null,
   "outputs": [],
   "source": [
    "len(df_sa) - len(df_sa_result)"
   ],
   "metadata": {
    "collapsed": false
   }
  },
  {
   "cell_type": "code",
   "execution_count": null,
   "outputs": [],
   "source": [
    "duplicated_count = df_sa_result.duplicated().sum()\n",
    "duplicated_count"
   ],
   "metadata": {
    "collapsed": false
   }
  },
  {
   "cell_type": "code",
   "execution_count": null,
   "outputs": [],
   "source": [
    "# Count the occurrences where startClusterID and endClusterID are the same\n",
    "same_cluster_count = df_sa_result[df_sa_result['startClusterID'] == df_sa_result['endClusterID']].shape[0]\n",
    "same_cluster_count"
   ],
   "metadata": {
    "collapsed": false
   }
  },
  {
   "cell_type": "code",
   "execution_count": null,
   "outputs": [],
   "source": [
    "df_sa_result.to_csv('combined_data_MP_NE_hildesheim_merged_dataTransformed_featureEngineered_mergedClusterInside.csv', index=False)"
   ],
   "metadata": {
    "collapsed": false
   }
  },
  {
   "cell_type": "markdown",
   "source": [
    "# merge endcluster into regions"
   ],
   "metadata": {
    "collapsed": false
   }
  },
  {
   "cell_type": "code",
   "execution_count": null,
   "outputs": [],
   "source": [
    "csv_shapes = \"desd-4-landkreis-hildesheim-1663168323029-shapes.csv\"\n",
    "df_shapes = pd.read_csv(csv_shapes)\n",
    "df_shapes"
   ],
   "metadata": {
    "collapsed": false
   }
  },
  {
   "cell_type": "code",
   "execution_count": null,
   "outputs": [],
   "source": [
    "df_shapes = df_shapes[df_shapes['name'].apply(lambda x: len(x) > 28)]\n",
    "df_shapes['id'] = df_shapes['name'].apply(lambda x: x.split('- 0')[1][:-1])\n",
    "df_shapes['id'] = df_shapes['id'].astype(int)\n",
    "df_shapes"
   ],
   "metadata": {
    "collapsed": false
   }
  },
  {
   "cell_type": "code",
   "execution_count": null,
   "outputs": [],
   "source": [
    "csv = \"combined_data_MP_NE_hildesheim_merged_dataTransformed_featureEngineered_mergedClusterInside_Coord_cC_start.csv\"\n",
    "df = pd.read_csv(csv)\n",
    "df"
   ],
   "metadata": {
    "collapsed": false
   }
  },
  {
   "cell_type": "code",
   "execution_count": null,
   "outputs": [],
   "source": [
    "df_start = pd.DataFrame(df.startClusterID.unique())\n",
    "df_start.rename(columns={0 : 'id'}, inplace=True)\n",
    "df_start"
   ],
   "metadata": {
    "collapsed": false
   }
  },
  {
   "cell_type": "code",
   "execution_count": null,
   "outputs": [],
   "source": [
    "df_shapes = df_shapes.merge(df_start, on='id', how='right')\n",
    "df_shapes"
   ],
   "metadata": {
    "collapsed": false
   }
  },
  {
   "cell_type": "code",
   "execution_count": null,
   "outputs": [],
   "source": [
    "df_shapes['name'] = df_shapes['name'].astype(str).apply(lambda x: x.split(' (')[0])\n",
    "df_shapes"
   ],
   "metadata": {
    "collapsed": false
   }
  },
  {
   "cell_type": "code",
   "execution_count": null,
   "outputs": [],
   "source": [
    "df_shapes.drop(columns=['lon', 'lat', 'FID'], inplace=True)\n",
    "df_shapes"
   ],
   "metadata": {
    "collapsed": false
   }
  },
  {
   "cell_type": "code",
   "execution_count": null,
   "outputs": [],
   "source": [
    "\"\"\"df_shapes.loc[df_shapes['id'] == 3241013050007, 'name'] = 'Pattensen/ZOB'\n",
    "df_shapes.loc[df_shapes['id'] == 3254028001003, 'name'] = 'Sarstedt Train'\n",
    "df_shapes.loc[df_shapes['id'] == 3254028001013, 'name'] = 'Sarstedt Tram'\n",
    "df_shapes.loc[df_shapes['id'] == 3254014000004, 'name'] = 'Elze Train'\n",
    "df_shapes.loc[df_shapes['id'] == 3254021003014, 'name'] = 'Hildesheim HBF'\n",
    "df_shapes\"\"\""
   ],
   "metadata": {
    "collapsed": false
   }
  },
  {
   "cell_type": "code",
   "execution_count": null,
   "outputs": [],
   "source": [
    "# Create a mapping dictionary from df_api\n",
    "mapping_dict_regions = df_shapes.set_index('id')['name'].to_dict()\n",
    "mapping_dict_regions"
   ],
   "metadata": {
    "collapsed": false
   }
  },
  {
   "cell_type": "code",
   "execution_count": null,
   "outputs": [],
   "source": [
    "csv = \"combined_data_MP_NE_mappedUCOtoMTC_Coord_dT_fE_mergedClusterInside_cC_slctd.csv\"\n",
    "df = pd.read_csv(csv)\n",
    "df"
   ],
   "metadata": {
    "collapsed": false
   }
  },
  {
   "cell_type": "code",
   "execution_count": null,
   "outputs": [],
   "source": [
    "# Apply the mapping to the column in df, keeping original value if no match\n",
    "df['endClusterID'] = df['endClusterID'].apply(lambda x: mapping_dict_regions.get(x, x))\n",
    "df"
   ],
   "metadata": {
    "collapsed": false
   }
  },
  {
   "cell_type": "code",
   "execution_count": null,
   "outputs": [],
   "source": [
    "#df.drop(columns=['endLat', 'endLon'], inplace=True)"
   ],
   "metadata": {
    "collapsed": false
   }
  },
  {
   "cell_type": "code",
   "execution_count": null,
   "outputs": [],
   "source": [
    "df_result = df.groupby(['year', 'quarter','month', 'startClusterID', 'endClusterID', 'isSchoolHoliday','isWeekend', 'weekday_number', 'daytime', 'startLon', 'startLat']).agg({\n",
    "    'endLon': 'mean',\n",
    "    'endLat': 'mean',\n",
    "    'mean_distance': 'mean',\n",
    "    'count_corrected': 'sum',\n",
    "}).reset_index()\n",
    "df_result"
   ],
   "metadata": {
    "collapsed": false
   }
  },
  {
   "cell_type": "code",
   "execution_count": null,
   "outputs": [],
   "source": [
    "df_result.groupby(['endClusterID']).count()"
   ],
   "metadata": {
    "collapsed": false
   }
  },
  {
   "cell_type": "code",
   "execution_count": null,
   "outputs": [],
   "source": [
    "df_result.loc[df_result['endClusterID'] == 'Harsum', 'endClusterID'] = 'Giesen'\n",
    "df_result.groupby(['endClusterID']).count()"
   ],
   "metadata": {
    "collapsed": false
   }
  },
  {
   "cell_type": "code",
   "execution_count": null,
   "outputs": [],
   "source": [
    "df_result"
   ],
   "metadata": {
    "collapsed": false
   }
  },
  {
   "cell_type": "code",
   "execution_count": null,
   "outputs": [],
   "source": [
    "df_result['count_corrected'].describe()"
   ],
   "metadata": {
    "collapsed": false
   }
  },
  {
   "cell_type": "code",
   "execution_count": null,
   "outputs": [],
   "source": [
    "df_result.to_csv(csv.split('.')[0] + '_regions_6.csv', index=False)"
   ],
   "metadata": {
    "collapsed": false
   }
  },
  {
   "cell_type": "code",
   "execution_count": null,
   "outputs": [],
   "source": [],
   "metadata": {
    "collapsed": false
   }
  }
 ],
 "metadata": {
  "kernelspec": {
   "display_name": "Python 3",
   "language": "python",
   "name": "python3"
  },
  "language_info": {
   "codemirror_mode": {
    "name": "ipython",
    "version": 2
   },
   "file_extension": ".py",
   "mimetype": "text/x-python",
   "name": "python",
   "nbconvert_exporter": "python",
   "pygments_lexer": "ipython2",
   "version": "2.7.6"
  }
 },
 "nbformat": 4,
 "nbformat_minor": 0
}
