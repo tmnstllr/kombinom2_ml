{
 "cells": [
  {
   "cell_type": "code",
   "execution_count": null,
   "metadata": {
    "collapsed": false
   },
   "outputs": [],
   "source": [
    "import pandas as pd"
   ]
  },
  {
   "cell_type": "code",
   "execution_count": null,
   "metadata": {
    "collapsed": false
   },
   "outputs": [],
   "source": [
    "csv_data = \"combined_data_MP_NE_dT.csv\"\n",
    "# \"combined_data_MP_NE_hildesheim_merged_dataTransformed_featureEngineered_mergedClusterInside.csv\"\n",
    "csv_coordinates = \"desd-4-landkreis-hildesheim-1663168323029-shapes.csv\""
   ]
  },
  {
   "cell_type": "code",
   "execution_count": null,
   "metadata": {
    "collapsed": true
   },
   "outputs": [],
   "source": [
    "df = pd.read_csv(csv_data)\n",
    "#df['startClusterID'] = df['startClusterID'].astype(int)\n",
    "#df['endClusterID'] = df['endClusterID'].astype(int)\n",
    "df"
   ]
  },
  {
   "cell_type": "code",
   "execution_count": null,
   "metadata": {
    "collapsed": false
   },
   "outputs": [],
   "source": [
    "df_coord = pd.read_csv(csv_coordinates)\n",
    "df_coord"
   ]
  },
  {
   "cell_type": "markdown",
   "source": [
    "optional"
   ],
   "metadata": {
    "collapsed": false
   }
  },
  {
   "cell_type": "code",
   "execution_count": null,
   "outputs": [],
   "source": [
    "df_coord['FID'] = df_coord['FID'].astype(str).apply(lambda x: x.split('_')[0])\n",
    "df_coord"
   ],
   "metadata": {
    "collapsed": false
   }
  },
  {
   "cell_type": "code",
   "execution_count": null,
   "metadata": {
    "collapsed": false
   },
   "outputs": [],
   "source": [
    "df_merged = pd.merge(df, df_coord, how='left', left_on='startName', right_on='name')\n",
    "df_merged"
   ]
  },
  {
   "cell_type": "code",
   "execution_count": null,
   "metadata": {
    "collapsed": false
   },
   "outputs": [],
   "source": [
    "df_merged = df_merged.rename(columns={'lon': 'startLon', 'lat': 'startLat'})\n",
    "df_merged"
   ]
  },
  {
   "cell_type": "code",
   "execution_count": null,
   "metadata": {
    "collapsed": false
   },
   "outputs": [],
   "source": [
    "df_merged = df_merged.drop(columns=['FID', 'search_id', 'id', 'travel_time', 'distance_y'])\n",
    "df_merged = df_merged.rename(columns={'distance_x': 'distance'})\n",
    "df_merged"
   ]
  },
  {
   "cell_type": "code",
   "execution_count": null,
   "metadata": {
    "collapsed": false
   },
   "outputs": [],
   "source": [
    "df_merged = pd.merge(df_merged, df_coord, how='left', left_on='endName', right_on='name')\n",
    "df_merged"
   ]
  },
  {
   "cell_type": "code",
   "execution_count": null,
   "metadata": {
    "collapsed": false
   },
   "outputs": [],
   "source": [
    "df_merged = df_merged.rename(columns={'lon': 'endLon', 'lat': 'endLat'})\n",
    "df_merged"
   ]
  },
  {
   "cell_type": "code",
   "execution_count": null,
   "metadata": {
    "collapsed": false
   },
   "outputs": [],
   "source": [
    "df_merged = df_merged.drop(columns=['FID', 'search_id', 'id', 'travel_time', 'distance_y'])\n",
    "df_merged = df_merged.rename(columns={'distance_x': 'distance'})\n",
    "df_merged"
   ]
  },
  {
   "cell_type": "code",
   "execution_count": null,
   "outputs": [],
   "source": [
    "df_merged.isna().sum()"
   ],
   "metadata": {
    "collapsed": false
   }
  },
  {
   "cell_type": "code",
   "execution_count": null,
   "outputs": [],
   "source": [
    "df.dtypes"
   ],
   "metadata": {
    "collapsed": false
   }
  },
  {
   "cell_type": "code",
   "execution_count": null,
   "outputs": [],
   "source": [
    "df_merged.to_csv(csv_data.split('.')[0] + '_Coord.csv', index=False)\n",
    "#combined_data_MP_NE_hildesheim_merged_dataTransformed_featureEngineered_mergedClusterInside_Coord"
   ],
   "metadata": {
    "collapsed": false
   }
  },
  {
   "cell_type": "code",
   "execution_count": null,
   "metadata": {
    "collapsed": false
   },
   "outputs": [],
   "source": [
    "df_merged.to_csv(csv_data.split(sep='.')[0] + '_Coord' + '.csv', index=False)"
   ]
  },
  {
   "cell_type": "markdown",
   "source": [
    "merge for coord"
   ],
   "metadata": {
    "collapsed": false
   }
  },
  {
   "cell_type": "code",
   "execution_count": null,
   "outputs": [],
   "source": [
    "df_old = pd.read_csv('combined_data_MP_NE_mappedUCOtoMTC_Coord.csv')\n",
    "df_old"
   ],
   "metadata": {
    "collapsed": false
   }
  },
  {
   "cell_type": "code",
   "execution_count": null,
   "outputs": [],
   "source": [
    "df_new = pd.read_csv('combined_data_MP_NE_mappedUCOtoMTC.csv')\n",
    "df_new"
   ],
   "metadata": {
    "collapsed": false
   }
  },
  {
   "cell_type": "code",
   "execution_count": null,
   "outputs": [],
   "source": [
    "df_combined = pd.merge(df_old, df_new, on=['Bucket', 'StartName', 'EndName', 'Wochentag', 'Tageszeit', 'Schulferien', 'Count'], how='left')\n",
    "df_combined"
   ],
   "metadata": {
    "collapsed": false
   }
  },
  {
   "cell_type": "code",
   "execution_count": null,
   "outputs": [],
   "source": [
    "df_combined.to_csv('combined_data_MP_NE_mappedUCOtoMTC_Coord.csv', index=False)"
   ],
   "metadata": {
    "collapsed": false
   }
  },
  {
   "cell_type": "code",
   "execution_count": null,
   "outputs": [],
   "source": [],
   "metadata": {
    "collapsed": false
   }
  }
 ],
 "metadata": {
  "kernelspec": {
   "display_name": "Python 3",
   "language": "python",
   "name": "python3"
  },
  "language_info": {
   "codemirror_mode": {
    "name": "ipython",
    "version": 2
   },
   "file_extension": ".py",
   "mimetype": "text/x-python",
   "name": "python",
   "nbconvert_exporter": "python",
   "pygments_lexer": "ipython2",
   "version": "2.7.6"
  }
 },
 "nbformat": 4,
 "nbformat_minor": 0
}
