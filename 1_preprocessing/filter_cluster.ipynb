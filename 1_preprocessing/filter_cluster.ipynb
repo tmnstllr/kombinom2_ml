{
 "cells": [
  {
   "cell_type": "code",
   "execution_count": null,
   "metadata": {
    "collapsed": true
   },
   "outputs": [],
   "source": [
    "import pandas as pd\n",
    "import geopandas as gpd"
   ]
  },
  {
   "cell_type": "code",
   "execution_count": null,
   "outputs": [],
   "source": [
    "csv = \"traveltime_results_top1_all.csv\"\n",
    "df = pd.read_csv(csv)\n",
    "df"
   ],
   "metadata": {
    "collapsed": false
   }
  },
  {
   "cell_type": "code",
   "execution_count": null,
   "outputs": [],
   "source": [
    "csv_shapes = \"desd-4-landkreis-hildesheim-1663168323029-shapes.csv\"\n",
    "df_shapes = pd.read_csv(csv_shapes)\n",
    "df_shapes"
   ],
   "metadata": {
    "collapsed": false
   }
  },
  {
   "cell_type": "code",
   "execution_count": null,
   "outputs": [],
   "source": [
    "df_shapes.id.describe()"
   ],
   "metadata": {
    "collapsed": false
   }
  },
  {
   "cell_type": "code",
   "execution_count": null,
   "outputs": [],
   "source": [
    "df_merged = df_shapes.merge(df, how='outer', left_on='name', right_on='search_id')\n",
    "df_merged"
   ],
   "metadata": {
    "collapsed": false
   }
  },
  {
   "cell_type": "code",
   "execution_count": null,
   "outputs": [],
   "source": [
    "df_merged.fillna(0, inplace=True)\n",
    "df_merged"
   ],
   "metadata": {
    "collapsed": false
   }
  },
  {
   "cell_type": "code",
   "execution_count": null,
   "outputs": [],
   "source": [
    "df_merged['search_id_y'].unique()"
   ],
   "metadata": {
    "collapsed": false
   }
  },
  {
   "cell_type": "code",
   "execution_count": null,
   "outputs": [],
   "source": [
    "df_merged.to_csv(csv_shapes.split('.')[0] + '.csv', index=False)"
   ],
   "metadata": {
    "collapsed": false
   }
  },
  {
   "cell_type": "code",
   "execution_count": null,
   "outputs": [],
   "source": [
    "dbf = \"desd-4-landkreis-hildesheim-1663168323029-shapes.dbf\"\n",
    "gdf = gpd.read_file(dbf)\n",
    "gdf"
   ],
   "metadata": {
    "collapsed": false
   }
  },
  {
   "cell_type": "code",
   "execution_count": null,
   "outputs": [],
   "source": [
    "gdf['search_id'].unique()"
   ],
   "metadata": {
    "collapsed": false
   }
  },
  {
   "cell_type": "code",
   "execution_count": null,
   "outputs": [],
   "source": [
    "df_merged = gdf.merge(df_shapes, how='left', left_index=True, right_index=True, suffixes=['_dbf', '_csv'])\n",
    "df_merged"
   ],
   "metadata": {
    "collapsed": false
   }
  },
  {
   "cell_type": "code",
   "execution_count": null,
   "outputs": [],
   "source": [
    "df_merged['search_id_csv'].unique()"
   ],
   "metadata": {
    "collapsed": false
   }
  },
  {
   "cell_type": "code",
   "execution_count": null,
   "outputs": [],
   "source": [
    "df_merged.fillna(0, inplace=True)\n",
    "df_merged"
   ],
   "metadata": {
    "collapsed": false
   }
  },
  {
   "cell_type": "code",
   "execution_count": null,
   "outputs": [],
   "source": [
    "gdf = gpd.GeoDataFrame(df_merged, geometry='geometry')\n",
    "gdf.crs = 'EPSG:4326'\n",
    "gdf"
   ],
   "metadata": {
    "collapsed": false
   }
  },
  {
   "cell_type": "code",
   "execution_count": null,
   "outputs": [],
   "source": [
    "unique_values = gdf['id_csv'].unique()\n",
    "\n",
    "integer_labels = pd.factorize(unique_values)[0]\n",
    "\n",
    "# Create a mapping dictionary for unique values and their integer labels\n",
    "mapping = dict(zip(unique_values, integer_labels))\n",
    "\n",
    "# Map the integer labels to the 'id' column in the DataFrame\n",
    "gdf['id_integer'] = gdf['id_csv'].map(mapping)\n",
    "\n",
    "gdf"
   ],
   "metadata": {
    "collapsed": false
   }
  },
  {
   "cell_type": "code",
   "execution_count": null,
   "outputs": [],
   "source": [
    "gdf['id_integer'].describe()"
   ],
   "metadata": {
    "collapsed": false
   }
  },
  {
   "cell_type": "markdown",
   "source": [
    "manual validity checking"
   ],
   "metadata": {
    "collapsed": false
   }
  },
  {
   "cell_type": "code",
   "execution_count": null,
   "outputs": [],
   "source": [
    "cluster = {'Hagenburg': 'Sarstedt (31157 - 03254028001003)',\n",
    "           'Springe (31832 - 03241017060003)': 'Pattensen (30982 - 03241013050007)',\n",
    "           'Springe (31832 - 03241017060002)': 'Pattensen (30982 - 03241013050007)',\n",
    "           #'Springe (31832 - 03241017010001)': 'Pattensen (30982 - 03241013050007)',\n",
    "           'Gronau (31028 - 03254043000001)': 'Elze (31008 - 03254014000004)',\n",
    "           'Bockenem (31167 - 03254008000007)': 'Hildesheim (31137 - 03254021003014)',\n",
    "\n",
    "        }"
   ],
   "metadata": {
    "collapsed": false
   }
  },
  {
   "cell_type": "code",
   "execution_count": null,
   "outputs": [],
   "source": [
    "# Custom function to update id based on cluster dictionary\n",
    "def update_id(row):\n",
    "    return cluster.get(row['search_id_csv'], row['id_csv'])\n",
    "\n",
    "# Apply the custom function to the DataFrame\n",
    "gdf['id_csv'] = gdf.apply(update_id, axis=1)\n",
    "gdf"
   ],
   "metadata": {
    "collapsed": false
   }
  },
  {
   "cell_type": "code",
   "execution_count": null,
   "outputs": [],
   "source": [
    "gdf['id_integer'] = gdf['id_csv'].map(mapping)\n",
    "gdf"
   ],
   "metadata": {
    "collapsed": false
   }
  },
  {
   "cell_type": "code",
   "execution_count": null,
   "outputs": [],
   "source": [
    "gdf['search_id_csv'].unique()"
   ],
   "metadata": {
    "collapsed": false
   }
  },
  {
   "cell_type": "code",
   "execution_count": null,
   "outputs": [],
   "source": [
    "non_zero_count = (gdf['search_id_csv'] != '0').sum()\n",
    "non_zero_count"
   ],
   "metadata": {
    "collapsed": false
   }
  },
  {
   "cell_type": "code",
   "execution_count": null,
   "outputs": [],
   "source": [
    "# Assuming your DataFrame is named 'gdf'\n",
    "duplicate_rows = gdf[gdf.duplicated(subset=['search_id_csv'], keep=False)]\n",
    "duplicate_rows"
   ],
   "metadata": {
    "collapsed": false
   }
  },
  {
   "cell_type": "code",
   "execution_count": null,
   "outputs": [],
   "source": [
    "gdf.loc[1331, ['id_integer', 'id_csv', 'search_id_csv']] = 0"
   ],
   "metadata": {
    "collapsed": false
   }
  },
  {
   "cell_type": "code",
   "execution_count": null,
   "outputs": [],
   "source": [
    "gdf.loc[1332, ['id_integer', 'id_csv', 'search_id_csv']] = 0"
   ],
   "metadata": {
    "collapsed": false
   }
  },
  {
   "cell_type": "code",
   "execution_count": null,
   "outputs": [],
   "source": [],
   "metadata": {
    "collapsed": false
   }
  },
  {
   "cell_type": "code",
   "execution_count": null,
   "outputs": [],
   "source": [
    "gdf.to_file('desd-4-landkreis-hildesheim-1663168323029-shapes.dbf', index=False)"
   ],
   "metadata": {
    "collapsed": false
   }
  },
  {
   "cell_type": "code",
   "execution_count": null,
   "outputs": [],
   "source": [
    "csv = \"combined_data_MP_NE_dT_cC.csv\"\n",
    "df = pd.read_csv(csv)\n",
    "df"
   ],
   "metadata": {
    "collapsed": false
   }
  },
  {
   "cell_type": "code",
   "execution_count": null,
   "outputs": [],
   "source": [],
   "metadata": {
    "collapsed": false
   }
  }
 ],
 "metadata": {
  "kernelspec": {
   "display_name": "Python 3",
   "language": "python",
   "name": "python3"
  },
  "language_info": {
   "codemirror_mode": {
    "name": "ipython",
    "version": 2
   },
   "file_extension": ".py",
   "mimetype": "text/x-python",
   "name": "python",
   "nbconvert_exporter": "python",
   "pygments_lexer": "ipython2",
   "version": "2.7.6"
  }
 },
 "nbformat": 4,
 "nbformat_minor": 0
}
