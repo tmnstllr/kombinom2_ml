{
 "cells": [
  {
   "cell_type": "code",
   "execution_count": null,
   "metadata": {
    "collapsed": true
   },
   "outputs": [],
   "source": [
    "import numpy as np\n",
    "import pandas as pd\n",
    "from sklearn.model_selection import train_test_split, GridSearchCV, cross_val_score, TimeSeriesSplit\n",
    "from sklearn.metrics import mean_squared_error, make_scorer, r2_score\n",
    "from sklearn.preprocessing import StandardScaler, QuantileTransformer, OrdinalEncoder,OneHotEncoder\n",
    "from sklearn.compose import ColumnTransformer\n",
    "from skopt import BayesSearchCV\n",
    "import lightgbm as lgb\n",
    "from lightgbm import LGBMRegressor\n",
    "from joblib import dump, load\n",
    "import pickle\n",
    "import skops.io as sio\n",
    "from sklearn2pmml.pipeline import PMMLPipeline\n",
    "from sklearn2pmml import sklearn2pmml"
   ]
  },
  {
   "cell_type": "code",
   "execution_count": null,
   "outputs": [],
   "source": [
    "path_models = './models/'"
   ],
   "metadata": {
    "collapsed": false
   }
  },
  {
   "cell_type": "code",
   "execution_count": null,
   "outputs": [],
   "source": [
    "path = './ml_doc/'"
   ],
   "metadata": {
    "collapsed": false
   }
  },
  {
   "cell_type": "code",
   "execution_count": null,
   "outputs": [],
   "source": [
    "COUNT_ID = COUNT_ID_start = 147"
   ],
   "metadata": {
    "collapsed": false
   }
  },
  {
   "cell_type": "code",
   "execution_count": null,
   "outputs": [],
   "source": [
    "pred_results = []"
   ],
   "metadata": {
    "collapsed": false
   }
  },
  {
   "cell_type": "markdown",
   "source": [
    "# #146 run"
   ],
   "metadata": {
    "collapsed": false
   }
  },
  {
   "cell_type": "markdown",
   "source": [
    "RFE features"
   ],
   "metadata": {
    "collapsed": false
   }
  },
  {
   "cell_type": "code",
   "execution_count": null,
   "outputs": [],
   "source": [
    "csv = \"combined_data_MP_NE_mappedUCOtoMTC_Coord_dT_fE_mergedClusterInside_cC_slctd_regions_6_OSMstart_metrics_OSMend.csv\"\n",
    "df = pd.read_csv(csv)\n",
    "df = df[df['year'] != 2022]\n",
    "\n",
    "df.drop(columns=['year', 'quarter', 'kindergartens_count_start', 'schools_count_start', 'sportsCentres_count_start', 'publicTransportStops_count_start', 'supermarkets_count_start', 'sum_of_count_lag2', 'sum_of_count_lag3', 'quantile_75_of_previous_month', 'kindergartens_count_end', 'schools_count_end', 'sportsCentres_count_end', 'publicTransportStops_count_end', 'supermarkets_count_end'], inplace=True)\n",
    "\n",
    "df['month'] = df['month'].astype('category')\n",
    "df['startClusterID'] = df['startClusterID'].astype('category')\n",
    "df['endClusterID'] = df['endClusterID'].astype('category')\n",
    "df['isSchoolHoliday'] = df['isSchoolHoliday'].astype('category')\n",
    "df['isWeekend'] = df['isWeekend'].astype('category')\n",
    "df['weekday_number'] = df['weekday_number'].astype('category')\n",
    "\n",
    "train_ratio = 0.65\n",
    "validation_ratio = 0.20\n",
    "test_ratio = 0.15\n",
    "train, test = train_test_split(df, test_size=1-train_ratio, random_state=42)\n",
    "val, test = train_test_split(test, test_size=test_ratio/(test_ratio+validation_ratio), random_state=42)\n",
    "X_train = train.drop('count_corrected', axis=1)\n",
    "y_train = train['count_corrected']\n",
    "X_val = val.drop('count_corrected', axis=1)\n",
    "y_val = val['count_corrected']\n",
    "X_test = test.drop('count_corrected', axis=1)\n",
    "y_test = test['count_corrected']\n",
    "\n",
    "# Define hyperparameter search space\n",
    "param = {\n",
    "    \"regressor__max_depth\": (1, 12),\n",
    "    \"regressor__learning_rate\": (1e-3, 1),\n",
    "    \"regressor__min_split_gain\":(0.0, 16384),\n",
    "    \"regressor__num_leaves\": (48, 196),\n",
    "    \"regressor__min_child_weight\": (0, 16384),\n",
    "    \"regressor__reg_alpha\": (0.0, 16384),\n",
    "    \"regressor__reg_lambda\": (0.0, 16384),\n",
    "    \"regressor__n_estimators\": (640, 1640),\n",
    "    \"regressor__path_smooth\": (0.0, 16384),\n",
    "}\n",
    "\n",
    "# Define categorical features\n",
    "cat_feat = [\"month\", \"startClusterID\", \"endClusterID\",\n",
    "            \"isSchoolHoliday\", \"isWeekend\", \"weekday_number\"]\n",
    "\n",
    "# Create Pipeline with OrdinalEncoder\n",
    "categorical_transformer = PMMLPipeline(\n",
    "    steps=[\n",
    "        (\"encoder\", OrdinalEncoder()),\n",
    "    ]\n",
    ")\n",
    "\n",
    "# Set up Preprocessor with 'passthrough' of numerical features\n",
    "preprocessor = ColumnTransformer(\n",
    "    transformers=[\n",
    "        (\"cat_feat\", categorical_transformer, cat_feat)\n",
    "    ], remainder=\"passthrough\"\n",
    ")\n",
    "\n",
    "# Define Model Pipeline with Preprocessor and LightGBM\n",
    "model = PMMLPipeline([\n",
    "    ('preprocessor', preprocessor),\n",
    "    ('regressor', LGBMRegressor(verbose=1,\n",
    "                                force_row_wise=True,\n",
    "                                callbacks=[lgb.early_stopping(5)],\n",
    "                                eval_set=[(X_val, y_val)],\n",
    "                                eval_metric=\"neg_mean_squared_error\",\n",
    "                                boosting_type=\"dart\"))\n",
    "])\n",
    "\n",
    "# Configure Bayesian Search\n",
    "search = BayesSearchCV(\n",
    "    model,\n",
    "    param,\n",
    "    cv=5,\n",
    "    scoring=\"neg_mean_squared_error\",\n",
    "    pre_dispatch=16,\n",
    "    n_jobs=16,\n",
    "    n_points=4,\n",
    "    n_iter=196,\n",
    "    error_score='raise'\n",
    ")\n",
    "\n",
    "# Fit the model to the training data\n",
    "search.fit(X_train, y_train)\n",
    "\n",
    "\n",
    "# Get the best model\n",
    "best_model = search.best_estimator_\n",
    "COUNT_ID = 147\n",
    "\n",
    "# Evaluate the best model\n",
    "y_pred = best_model.predict(X_test)\n",
    "mse = mean_squared_error(y_test, y_pred)\n",
    "rmse = np.sqrt(mse)\n",
    "r2 = r2_score(y_test, y_pred)\n",
    "\n",
    "pred_results.append({\n",
    "    'count_id': COUNT_ID,\n",
    "    'MSE': mse,\n",
    "    'RMSE': rmse,\n",
    "    'R2': r2\n",
    "})\n",
    "\n",
    "print(\"Mean Squared Error of Best Model:\", mse)\n",
    "print(\"Root Mean Squared Error:\", rmse)\n",
    "print(\"R-squared of Best Model:\", r2)\n",
    "\n",
    "unique_cluster_ids = df['startClusterID'].unique()\n",
    "results_list = []\n",
    "for cluster_id in unique_cluster_ids:\n",
    "    # Filter data for the current cluster ID\n",
    "    cluster_data = test[test['startClusterID'] == cluster_id]\n",
    "\n",
    "    # calculate mean per cluster\n",
    "    mean = cluster_data['count_corrected'].mean()\n",
    "\n",
    "    # Extract features for prediction\n",
    "    X_cluster = cluster_data.drop(['count_corrected'], axis=1)\n",
    "\n",
    "    # Make predictions for the current cluster\n",
    "    predictions = best_model.predict(X_cluster)\n",
    "\n",
    "    # Calculate RMSE and R-squared\n",
    "    y_true = cluster_data['count_corrected']\n",
    "    rmse = np.sqrt(mean_squared_error(y_true, predictions))\n",
    "    r2 = r2_score(y_true, predictions)\n",
    "\n",
    "    # Get the count of samples\n",
    "    count_samples = len(cluster_data)\n",
    "\n",
    "    # Append results to the list\n",
    "    results_list.append({'startClusterID': cluster_id,\n",
    "                         'countOfSamples': count_samples,\n",
    "                         'mean_count': mean,\n",
    "                         'RMSE': rmse,\n",
    "                         'R2': r2})\n",
    "\n",
    "# Create a DataFrame from the list of results\n",
    "results_df = pd.DataFrame(results_list)\n",
    "results_df.to_csv(path + f'{COUNT_ID}' + '_pred_' + csv.split(sep='.')[0] + '.csv', index=False)\n",
    "\n",
    "cv_results = pd.DataFrame(search.cv_results_)\n",
    "fi = best_model.steps[1][1].feature_importances_\n",
    "fi = [round(val, 3) for val in fi]\n",
    "fi = pd.DataFrame(fi)\n",
    "# Get the feature names from x_train\n",
    "feature_names = X_train.columns.tolist()\n",
    "# Create a new DataFrame with feature names and their corresponding importances\n",
    "feature_importances = pd.DataFrame({'Feature': feature_names, 'Importance': fi[0]})\n",
    "cv_results.to_csv(path + f'{COUNT_ID}' + '_bs_' + csv.split(sep='.')[0] + '.csv', index=False)\n",
    "feature_importances.to_csv(path + f'{COUNT_ID}' + '_fi_' + csv.split(sep='.')[0] + '.csv', index=False)\n",
    "\n",
    "fn = path_models + f'{COUNT_ID}_' + csv.split(sep='.')[0]\n",
    "with open(f'{fn}.pkl', 'wb') as file:\n",
    "    pickle.dump(best_model, file)\n",
    "dump(best_model, f'{fn}.joblib')\n",
    "sio.dump(best_model, f'{fn}.skops')\n",
    "sklearn2pmml(best_model, f\"{fn}.pmml\", with_repr = True)\n",
    "\n",
    "pred_results_df = pd.DataFrame(pred_results)\n",
    "pred_results_df.to_csv(path + f'{COUNT_ID_start}_{COUNT_ID}_prediction_results.csv', index=False)"
   ],
   "metadata": {
    "collapsed": false
   }
  },
  {
   "cell_type": "code",
   "execution_count": null,
   "outputs": [],
   "source": [
    "search\n"
   ],
   "metadata": {
    "collapsed": false
   }
  },
  {
   "cell_type": "code",
   "execution_count": null,
   "outputs": [],
   "source": [
    "pred_results_df = pd.DataFrame(pred_results)\n",
    "pred_results_df.to_csv(path + f'{COUNT_ID_start}_{COUNT_ID}_prediction_results.csv', index=False)"
   ],
   "metadata": {
    "collapsed": false
   }
  },
  {
   "cell_type": "code",
   "execution_count": null,
   "outputs": [],
   "source": [
    "csv = \"combined_data_MP_NE_mappedUCOtoMTC_Coord_dT_fE_mergedClusterInside_cC_slctd_regions_6_OSMstart_metrics_OSMend.csv\"\n",
    "df = pd.read_csv(csv)\n",
    "df = df[df['year'] != 2022]\n",
    "df.drop(columns=['year', 'quarter', 'kindergartens_count_start', 'schools_count_start', 'sportsCentres_count_start', 'publicTransportStops_count_start', 'supermarkets_count_start', 'sum_of_count_lag2', 'sum_of_count_lag3', 'quantile_75_of_previous_month', 'kindergartens_count_end', 'schools_count_end', 'sportsCentres_count_end', 'publicTransportStops_count_end', 'supermarkets_count_end'], inplace=True)\n",
    "df['month'] = df['month'].astype('category')\n",
    "df['startClusterID'] = df['startClusterID'].astype('category')\n",
    "df['endClusterID'] = df['endClusterID'].astype('category')\n",
    "df['isSchoolHoliday'] = df['isSchoolHoliday'].astype('category')\n",
    "df['isWeekend'] = df['isWeekend'].astype('category')\n",
    "df['weekday_number'] = df['weekday_number'].astype('category')\n",
    "\n",
    "cat_feat = [\"month\", \"startClusterID\", \"endClusterID\", \"isSchoolHoliday\", \"isWeekend\", \"weekday_number\"]\n",
    "categorical_transformer = PMMLPipeline(\n",
    "    steps=[\n",
    "        (\"encoder\", OrdinalEncoder()),\n",
    "    ]\n",
    ")\n",
    "preprocessor = ColumnTransformer(\n",
    "    transformers=[\n",
    "        (\"cat_feat\", categorical_transformer, cat_feat)\n",
    "    ], remainder=\"passthrough\"\n",
    ")\n",
    "\n",
    "train_ratio = 0.65\n",
    "validation_ratio = 0.20\n",
    "test_ratio = 0.15\n",
    "train, test = train_test_split(df, test_size=1-train_ratio, random_state=42)\n",
    "val, test = train_test_split(test, test_size=test_ratio/(test_ratio+validation_ratio), random_state=42)\n",
    "\n",
    "test_encoded = preprocessor.fit_transform(test)\n",
    "df_encoded = pd.DataFrame(test_encoded, columns=test.columns)"
   ],
   "metadata": {
    "collapsed": false
   }
  },
  {
   "cell_type": "code",
   "execution_count": null,
   "outputs": [],
   "source": [
    "df_encoded"
   ],
   "metadata": {
    "collapsed": false
   }
  },
  {
   "cell_type": "code",
   "execution_count": null,
   "outputs": [],
   "source": [
    "df_encoded.to_csv(csv.split('.')[0] + '__testEncoded.csv', index=False)"
   ],
   "metadata": {
    "collapsed": false
   }
  },
  {
   "cell_type": "code",
   "execution_count": null,
   "outputs": [],
   "source": [
    "csv = \"combined_data_MP_NE_mappedUCOtoMTC_Coord_dT_fE_mergedClusterInside_cC_slctd_regions_6_OSMstart_metrics_OSMend.csv\"\n",
    "df = pd.read_csv(csv)\n",
    "df = df[df['year'] != 2022]\n",
    "df.drop(columns=['year', 'quarter', 'kindergartens_count_start', 'schools_count_start', 'sportsCentres_count_start', 'publicTransportStops_count_start', 'supermarkets_count_start', 'sum_of_count_lag2', 'sum_of_count_lag3', 'quantile_75_of_previous_month', 'kindergartens_count_end', 'schools_count_end', 'sportsCentres_count_end', 'publicTransportStops_count_end', 'supermarkets_count_end'], inplace=True)\n",
    "df['month'] = df['month'].astype('category')\n",
    "df['startClusterID'] = df['startClusterID'].astype('category')\n",
    "df['endClusterID'] = df['endClusterID'].astype('category')\n",
    "df['isSchoolHoliday'] = df['isSchoolHoliday'].astype('category')\n",
    "df['isWeekend'] = df['isWeekend'].astype('category')\n",
    "df['weekday_number'] = df['weekday_number'].astype('category')\n",
    "\n",
    "train_ratio = 0.65\n",
    "validation_ratio = 0.20\n",
    "test_ratio = 0.15\n",
    "train, test = train_test_split(df, test_size=1-train_ratio, random_state=42)\n",
    "val, test = train_test_split(test, test_size=test_ratio/(test_ratio+validation_ratio), random_state=42)\n",
    "\n",
    "df_test = pd.DataFrame(test, columns=test.columns)\n",
    "df_test.to_csv(csv.split('.')[0] + '__test.csv', index=False)"
   ],
   "metadata": {
    "collapsed": false
   }
  },
  {
   "cell_type": "code",
   "execution_count": null,
   "outputs": [],
   "source": [
    "df_test"
   ],
   "metadata": {
    "collapsed": false
   }
  },
  {
   "cell_type": "markdown",
   "source": [
    "# read model"
   ],
   "metadata": {
    "collapsed": false
   }
  },
  {
   "cell_type": "code",
   "execution_count": null,
   "outputs": [],
   "source": [
    "import joblib\n",
    "import pandas as pd"
   ],
   "metadata": {
    "collapsed": false
   }
  },
  {
   "cell_type": "code",
   "execution_count": null,
   "outputs": [],
   "source": [
    "# Load the saved model\n",
    "model_filename = \"./ml6/models/147_combined_data_MP_NE_mappedUCOtoMTC_Coord_dT_fE_mergedClusterInside.joblib\"\n",
    "loaded_model = joblib.load(model_filename)"
   ],
   "metadata": {
    "collapsed": false
   }
  },
  {
   "cell_type": "code",
   "execution_count": null,
   "outputs": [],
   "source": [
    "df_test = pd.read_csv('combined_data_MP_NE_mappedUCOtoMTC_Coord_dT_fE_mergedClusterInside_cC_slctd_regions_6_OSMstart_metrics_OSMend__test.csv')"
   ],
   "metadata": {
    "collapsed": false
   }
  },
  {
   "cell_type": "code",
   "execution_count": null,
   "outputs": [],
   "source": [
    "X_test = df_test.drop(columns='count_corrected')\n",
    "y_test = df_test['count_corrected']\n"
   ],
   "metadata": {
    "collapsed": false
   }
  },
  {
   "cell_type": "code",
   "execution_count": null,
   "outputs": [],
   "source": [
    "# Evaluate the best model\n",
    "y_pred = loaded_model.predict(X_test, verbose=-1)\n",
    "mse = mean_squared_error(y_test, y_pred)\n",
    "rmse = np.sqrt(mse)\n",
    "r2 = r2_score(y_test, y_pred)\n",
    "\n",
    "print(\"Mean Squared Error of Best Model:\", mse)\n",
    "print(\"Root Mean Squared Error:\", rmse)\n",
    "print(\"R-squared of Best Model:\", r2)\n"
   ],
   "metadata": {
    "collapsed": false
   }
  },
  {
   "cell_type": "code",
   "execution_count": null,
   "outputs": [],
   "source": [
    "import math"
   ],
   "metadata": {
    "collapsed": false
   }
  },
  {
   "cell_type": "code",
   "execution_count": null,
   "outputs": [],
   "source": [
    "# Create an empty dictionary to store predicted and actual values\n",
    "prediction_data = {'Predicted': [], 'Actual': [], 'Residual': [], 'RSS': []}\n",
    "\n",
    "count = 1\n",
    "\n",
    "# Loop through each row in X_test and predict\n",
    "for index in range(len(X_test)):\n",
    "    df_row = X_test.iloc[index:index+1]  # Get the current row as a DataFrame\n",
    "    predicted_value = loaded_model.predict(df_row, verbose=-1)[0]  # Predict for the current row and get the first element\n",
    "    actual_value = y_test.iloc[index]  # Get the corresponding actual value\n",
    "\n",
    "    # Append the predicted and actual values to the dictionary\n",
    "    prediction_data['Predicted'].append(predicted_value)\n",
    "    prediction_data['Actual'].append(actual_value)\n",
    "    prediction_data['Residual'].append(actual_value - predicted_value)\n",
    "    prediction_data['RSS'].append(math.pow(actual_value - predicted_value, 2))\n",
    "\n",
    "    if index == count:\n",
    "        print(index)\n",
    "        count += 5000\n",
    "\n",
    "# Convert the prediction_data dictionary to a DataFrame\n",
    "prediction_df = pd.DataFrame(prediction_data)"
   ],
   "metadata": {
    "collapsed": false
   }
  },
  {
   "cell_type": "code",
   "execution_count": null,
   "outputs": [],
   "source": [
    "# Convert the prediction_data dictionary to a DataFrame\n",
    "prediction_df = pd.DataFrame(prediction_data)"
   ],
   "metadata": {
    "collapsed": false
   }
  },
  {
   "cell_type": "code",
   "execution_count": null,
   "outputs": [],
   "source": [
    "prediction_df"
   ],
   "metadata": {
    "collapsed": false
   }
  },
  {
   "cell_type": "code",
   "execution_count": null,
   "outputs": [],
   "source": [
    "prediction_df.RSS.mean()"
   ],
   "metadata": {
    "collapsed": false
   }
  },
  {
   "cell_type": "code",
   "execution_count": null,
   "outputs": [],
   "source": [
    "prediction_df.to_csv('combined_data_MP_NE_mappedUCOtoMTC_Coord_dT_fE_mergedClusterInside_cC_slctd_regions_6_OSMstart_metrics_OSMend__test_result.csv', index=False)"
   ],
   "metadata": {
    "collapsed": false
   }
  },
  {
   "cell_type": "code",
   "execution_count": null,
   "outputs": [],
   "source": [],
   "metadata": {
    "collapsed": false
   }
  },
  {
   "cell_type": "code",
   "execution_count": null,
   "outputs": [],
   "source": [
    "pd.read_csv('combined_data_MP_NE_mappedUCOtoMTC_Coord_dT_fE_mergedClusterInside_cC_slctd_regions_6.csv')"
   ],
   "metadata": {
    "collapsed": false
   }
  },
  {
   "cell_type": "code",
   "execution_count": null,
   "outputs": [],
   "source": [
    "pd.read_csv(\"combined_data_MP_NE_mappedUCOtoMTC_Coord_dT_fE_mergedClusterInside_cC_slctd_regions_6_OSMstart_metrics_OSMend.csv\")"
   ],
   "metadata": {
    "collapsed": false
   }
  },
  {
   "cell_type": "code",
   "execution_count": null,
   "outputs": [],
   "source": [],
   "metadata": {
    "collapsed": false
   }
  }
 ],
 "metadata": {
  "kernelspec": {
   "display_name": "Python 3",
   "language": "python",
   "name": "python3"
  },
  "language_info": {
   "codemirror_mode": {
    "name": "ipython",
    "version": 2
   },
   "file_extension": ".py",
   "mimetype": "text/x-python",
   "name": "python",
   "nbconvert_exporter": "python",
   "pygments_lexer": "ipython2",
   "version": "2.7.6"
  }
 },
 "nbformat": 4,
 "nbformat_minor": 0
}
