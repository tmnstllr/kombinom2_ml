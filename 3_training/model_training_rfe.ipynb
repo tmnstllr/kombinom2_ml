{
 "cells": [
  {
   "cell_type": "code",
   "execution_count": null,
   "metadata": {
    "collapsed": true
   },
   "outputs": [],
   "source": [
    "import numpy as np\n",
    "import pandas as pd\n",
    "from sklearn.model_selection import train_test_split, GridSearchCV, cross_val_score, TimeSeriesSplit\n",
    "from sklearn.metrics import mean_squared_error, make_scorer, r2_score\n",
    "from sklearn.preprocessing import StandardScaler, QuantileTransformer, OrdinalEncoder,OneHotEncoder\n",
    "from sklearn.feature_selection import RFECV\n",
    "from sklearn.compose import ColumnTransformer\n",
    "from skopt import BayesSearchCV\n",
    "import lightgbm as lgb\n",
    "from lightgbm import LGBMRegressor\n",
    "from joblib import dump, load\n",
    "import pickle\n",
    "import skops.io as sio\n",
    "from sklearn2pmml.pipeline import PMMLPipeline\n",
    "from sklearn2pmml import sklearn2pmml"
   ]
  },
  {
   "cell_type": "code",
   "execution_count": null,
   "outputs": [],
   "source": [
    "path_models = './models/'"
   ],
   "metadata": {
    "collapsed": false
   }
  },
  {
   "cell_type": "code",
   "execution_count": null,
   "outputs": [],
   "source": [
    "path = './ml_doc/'"
   ],
   "metadata": {
    "collapsed": false
   }
  },
  {
   "cell_type": "code",
   "execution_count": null,
   "outputs": [],
   "source": [
    "COUNT_ID = COUNT_ID_start = 141"
   ],
   "metadata": {
    "collapsed": false
   }
  },
  {
   "cell_type": "code",
   "execution_count": null,
   "outputs": [],
   "source": [
    "pred_results = []"
   ],
   "metadata": {
    "collapsed": false
   }
  },
  {
   "cell_type": "markdown",
   "source": [
    "# #141"
   ],
   "metadata": {
    "collapsed": false
   }
  },
  {
   "cell_type": "markdown",
   "source": [
    "RFECV"
   ],
   "metadata": {
    "collapsed": false
   }
  },
  {
   "cell_type": "code",
   "execution_count": null,
   "outputs": [],
   "source": [
    "csv = \"combined_data_MP_NE_mappedUCOtoMTC_Coord_dT_fE_mergedClusterInside_cC_slctd_regions_6_OSMstart_metrics_OSMend.csv\"\n",
    "# \"combined_data_MP_NE_hildesheim_erweitert_Coord_dataTransformed_CountNew_featureEngineered_Selected.csv\"\n",
    "df = pd.read_csv(csv)\n",
    "df = df[df['year'] != 2022]\n",
    "df['year'] = df['year'].astype('category')\n",
    "df['quarter'] = df['quarter'].astype('category')\n",
    "df['month'] = df['month'].astype('category')\n",
    "df['startClusterID'] = df['startClusterID'].astype('category')\n",
    "df['endClusterID'] = df['endClusterID'].astype('category')\n",
    "df['isSchoolHoliday'] = df['isSchoolHoliday'].astype('category')\n",
    "df['isWeekend'] = df['isWeekend'].astype('category')\n",
    "df['weekday_number'] = df['weekday_number'].astype('category')\n",
    "\n",
    "cat_feat = [\"year\", \"quarter\", \"month\", \"startClusterID\", \"endClusterID\", \"isSchoolHoliday\", \"isWeekend\", \"weekday_number\"]\n",
    "categorical_transformer = PMMLPipeline(\n",
    "    steps=[\n",
    "        (\"encoder\", OrdinalEncoder()),\n",
    "    ]\n",
    ")\n",
    "preprocessor = ColumnTransformer(\n",
    "    transformers=[\n",
    "        (\"cat_feat\", categorical_transformer, cat_feat)\n",
    "    ], remainder=\"passthrough\"\n",
    ")\n",
    "\n",
    "X = df.drop('count_corrected', axis=1)\n",
    "y = df['count_corrected']\n",
    "\n",
    "rfecv = RFECV(\n",
    "    estimator=LGBMRegressor(force_col_wise=True,\n",
    "                            n_estimators=1000),\n",
    "    cv=5,\n",
    "    scoring=\"neg_mean_squared_error\",\n",
    "    step=1,\n",
    "    min_features_to_select=3,\n",
    "    n_jobs=8,\n",
    "    verbose=1,\n",
    ")\n",
    "\n",
    "pipe = PMMLPipeline([\n",
    "    ('preprocessor', preprocessor),\n",
    "    ('rfe', rfecv)\n",
    "])\n",
    "\n",
    "# Fit the model to the training data\n",
    "pipe.fit(X, y)"
   ],
   "metadata": {
    "collapsed": false
   }
  },
  {
   "cell_type": "code",
   "execution_count": null,
   "outputs": [],
   "source": [
    "rfecv_df.to_csv('rfe_basic_ranking.csv')"
   ],
   "metadata": {
    "collapsed": false
   }
  },
  {
   "cell_type": "code",
   "execution_count": null,
   "outputs": [],
   "source": [
    "import matplotlib.pyplot as plt\n",
    "n_scores = len(rfecv.cv_results_[\"mean_test_score\"])\n",
    "plt.figure()\n",
    "plt.xlabel(\"Number of features selected\")\n",
    "plt.ylabel(\"Mean test accuracy\")\n",
    "plt.errorbar(\n",
    "    range(1, n_scores + 1),\n",
    "    rfecv.cv_results_[\"mean_test_score\"],\n",
    "    yerr=rfecv.cv_results_[\"std_test_score\"],\n",
    ")\n",
    "plt.title(\"Recursive Feature Elimination \\nwith correlated features\")\n",
    "plt.xlim(3, 35)\n",
    "plt.ylim(-60, -80)\n",
    "plt.show()"
   ],
   "metadata": {
    "collapsed": false
   }
  },
  {
   "cell_type": "code",
   "execution_count": null,
   "outputs": [],
   "source": [
    "results = pd.DataFrame(rfecv.cv_results_)\n",
    "results"
   ],
   "metadata": {
    "collapsed": false
   }
  },
  {
   "cell_type": "code",
   "execution_count": null,
   "outputs": [],
   "source": [
    "results.to_csv('rfe_1000.csv', index=False)"
   ],
   "metadata": {
    "collapsed": false
   }
  },
  {
   "cell_type": "code",
   "execution_count": null,
   "outputs": [],
   "source": [
    "feat = X.columns.tolist()\n",
    "feat"
   ],
   "metadata": {
    "collapsed": false
   }
  },
  {
   "cell_type": "code",
   "execution_count": null,
   "outputs": [],
   "source": [
    "rfecv.get_feature_names_out(feat)"
   ],
   "metadata": {
    "collapsed": false
   }
  },
  {
   "cell_type": "code",
   "execution_count": null,
   "outputs": [],
   "source": [
    "pred_results_df = pd.DataFrame(pred_results)\n",
    "pred_results_df.to_csv(path + f'{COUNT_ID_start}_{COUNT_ID}_prediction_results.csv', index=False)"
   ],
   "metadata": {
    "collapsed": false
   }
  },
  {
   "cell_type": "code",
   "execution_count": null,
   "outputs": [],
   "source": [
    "csv = \"combined_data_MP_NE_mappedUCOtoMTC_Coord_dT_fE_mergedClusterInside_cC_slctd_regions_6_OSMstart_metrics_OSMend.csv\"\n",
    "# \"combined_data_MP_NE_hildesheim_erweitert_Coord_dataTransformed_CountNew_featureEngineered_Selected.csv\"\n",
    "df = pd.read_csv(csv)\n",
    "df = df[df['year'] != 2022]\n",
    "df['year'] = df['year'].astype('category')\n",
    "df['quarter'] = df['quarter'].astype('category')\n",
    "df['month'] = df['month'].astype('category')\n",
    "df['startClusterID'] = df['startClusterID'].astype('category')\n",
    "df['endClusterID'] = df['endClusterID'].astype('category')\n",
    "df['isSchoolHoliday'] = df['isSchoolHoliday'].astype('category')\n",
    "df['isWeekend'] = df['isWeekend'].astype('category')\n",
    "df['weekday_number'] = df['weekday_number'].astype('category')\n",
    "\n",
    "cat_feat = [\"year\", \"quarter\", \"month\", \"startClusterID\", \"endClusterID\", \"isSchoolHoliday\", \"isWeekend\", \"weekday_number\"]\n",
    "categorical_transformer = PMMLPipeline(\n",
    "    steps=[\n",
    "        (\"encoder\", OrdinalEncoder()),\n",
    "    ]\n",
    ")\n",
    "preprocessor = ColumnTransformer(\n",
    "    transformers=[\n",
    "        (\"cat_feat\", categorical_transformer, cat_feat)\n",
    "    ], remainder=\"passthrough\"\n",
    ")\n",
    "\n",
    "train_ratio = 0.65\n",
    "validation_ratio = 0.20\n",
    "test_ratio = 0.15\n",
    "train, test = train_test_split(df, test_size=1-train_ratio, random_state=42)\n",
    "val, test = train_test_split(test, test_size=test_ratio/(test_ratio+validation_ratio))\n",
    "X_train = train.drop('count_corrected', axis=1)\n",
    "y_train = train['count_corrected']\n",
    "X_val = val.drop('count_corrected', axis=1)\n",
    "y_val = val['count_corrected']\n",
    "X_test = test.drop('count_corrected', axis=1)\n",
    "y_test = test['count_corrected']\n",
    "\n",
    "model = PMMLPipeline([\n",
    "    ('preprocessor', preprocessor),\n",
    "    ('regressor', LGBMRegressor(verbose=1, force_row_wise=True, callbacks=[lgb.early_stopping(5)], eval_set=[(X_val, y_val)], eval_metric=\"neg_mean_squared_error\"))\n",
    "])\n",
    "\n",
    "\n",
    "# Define hyperparameter search space\n",
    "param = {\n",
    "    \"regressor__max_depth\": (1, 16),\n",
    "    \"regressor__boosting_type\": [\"gbdt\", \"dart\"], #, \"dart\", \"rf\"],\n",
    "    \"regressor__learning_rate\": (1e-4, 1),\n",
    "    \"regressor__min_split_gain\":(0.0, 16384),\n",
    "    \"regressor__num_leaves\": (50, 440),\n",
    "    \"regressor__min_child_weight\": (0, 16384),\n",
    "    \"regressor__reg_alpha\": (0.0, 16384),\n",
    "    \"regressor__reg_lambda\": (0.0, 16384),\n",
    "    \"regressor__n_estimators\": (128, 1280),\n",
    "    \"regressor__path_smooth\": (0.0, 16384),\n",
    "    \"regressor__extra_trees\": [False, True],\n",
    "}\n",
    "\n",
    "search = BayesSearchCV(\n",
    "    model,\n",
    "    param,\n",
    "    cv=5,\n",
    "    scoring=\"neg_mean_squared_error\",\n",
    "    pre_dispatch=16,\n",
    "    n_jobs=16,\n",
    "    n_points=4,\n",
    "    n_iter=128,\n",
    "    error_score='raise'\n",
    ")\n",
    "\n",
    "# Fit the model to the training data\n",
    "search.fit(X_train, y_train)\n",
    "\n",
    "# Get the best model\n",
    "best_model = search.best_estimator_\n",
    "COUNT_ID = 137\n",
    "\n",
    "# Evaluate the best model\n",
    "y_pred = best_model.predict(X_test)\n",
    "mse = mean_squared_error(y_test, y_pred)\n",
    "rmse = np.sqrt(mse)\n",
    "r2 = r2_score(y_test, y_pred)\n",
    "\n",
    "pred_results.append({\n",
    "    'count_id': COUNT_ID,\n",
    "    'MSE': mse,\n",
    "    'RMSE': rmse,\n",
    "    'R2': r2\n",
    "})\n",
    "\n",
    "print(\"Mean Squared Error of Best Model:\", mse)\n",
    "print(\"Root Mean Squared Error:\", rmse)\n",
    "print(\"R-squared of Best Model:\", r2)\n",
    "\n",
    "unique_cluster_ids = df['startClusterID'].unique()\n",
    "results_list = []\n",
    "for cluster_id in unique_cluster_ids:\n",
    "    # Filter data for the current cluster ID\n",
    "    cluster_data = test[test['startClusterID'] == cluster_id]\n",
    "\n",
    "    # calculate mean per cluster\n",
    "    mean = cluster_data['count_corrected'].mean()\n",
    "\n",
    "    # Extract features for prediction\n",
    "    X_cluster = cluster_data.drop(['count_corrected'], axis=1)\n",
    "\n",
    "    # Make predictions for the current cluster\n",
    "    predictions = best_model.predict(X_cluster)\n",
    "\n",
    "    # Calculate RMSE and R-squared\n",
    "    y_true = cluster_data['count_corrected']\n",
    "    rmse = np.sqrt(mean_squared_error(y_true, predictions))\n",
    "    r2 = r2_score(y_true, predictions)\n",
    "\n",
    "    # Get the count of samples\n",
    "    count_samples = len(cluster_data)\n",
    "\n",
    "    # Append results to the list\n",
    "    results_list.append({'startClusterID': cluster_id,\n",
    "                         'countOfSamples': count_samples,\n",
    "                         'mean_count': mean,\n",
    "                         'RMSE': rmse,\n",
    "                         'R2': r2})\n",
    "\n",
    "# Create a DataFrame from the list of results\n",
    "results_df = pd.DataFrame(results_list)\n",
    "results_df.to_csv(path + f'{COUNT_ID}' + '_pred_' + csv.split(sep='.')[0] + '.csv', index=False)\n",
    "\n",
    "cv_results = pd.DataFrame(search.cv_results_)\n",
    "fi = best_model.steps[1][1].feature_importances_\n",
    "fi = [round(val, 3) for val in fi]\n",
    "fi = pd.DataFrame(fi)\n",
    "# Get the feature names from x_train\n",
    "feature_names = X_train.columns.tolist()\n",
    "# Create a new DataFrame with feature names and their corresponding importances\n",
    "feature_importances = pd.DataFrame({'Feature': feature_names, 'Importance': fi[0]})\n",
    "cv_results.to_csv(path + f'{COUNT_ID}' + '_bs_' + csv.split(sep='.')[0] + '.csv', index=False)\n",
    "feature_importances.to_csv(path + f'{COUNT_ID}' + '_fi_' + csv.split(sep='.')[0] + '.csv', index=False)\n",
    "\n",
    "fn = path_models + f'{COUNT_ID}_' + csv.split(sep='.')[0]\n",
    "with open(f'{fn}.pkl', 'wb') as file:\n",
    "    pickle.dump(best_model, file)\n",
    "dump(best_model, f'{fn}.joblib')\n",
    "sio.dump(best_model, f'{fn}.skops')\n",
    "sklearn2pmml(best_model, f\"{fn}.pmml\", with_repr = True)\n",
    "\n",
    "pred_results_df = pd.DataFrame(pred_results)\n",
    "pred_results_df.to_csv(path + f'{COUNT_ID_start}_{COUNT_ID}_prediction_results.csv', index=False)"
   ],
   "metadata": {
    "collapsed": false
   }
  }
 ],
 "metadata": {
  "kernelspec": {
   "display_name": "Python 3",
   "language": "python",
   "name": "python3"
  },
  "language_info": {
   "codemirror_mode": {
    "name": "ipython",
    "version": 2
   },
   "file_extension": ".py",
   "mimetype": "text/x-python",
   "name": "python",
   "nbconvert_exporter": "python",
   "pygments_lexer": "ipython2",
   "version": "2.7.6"
  }
 },
 "nbformat": 4,
 "nbformat_minor": 0
}
